{
 "cells": [
  {
   "cell_type": "markdown",
   "metadata": {},
   "source": [
    "# Frohlich Experiment Analysis\n",
    "\n",
    "This notebook analyzes the experimental logs from the hypothesis_2_&_4/logs directory and generates visualizations for:\n",
    "- Sankey chart: Initial vs Final preferences\n",
    "- Pie chart: Agreement frequency\n",
    "- Bar chart: Agreement by principle\n",
    "- Bar chart: Model type preference analysis"
   ]
  },
  {
   "cell_type": "code",
   "execution_count": 1,
   "metadata": {},
   "outputs": [
    {
     "name": "stdout",
     "output_type": "stream",
     "text": [
      "Libraries imported successfully\n"
     ]
    }
   ],
   "source": [
    "import json\n",
    "import pandas as pd\n",
    "import numpy as np\n",
    "import matplotlib.pyplot as plt\n",
    "import seaborn as sns\n",
    "import plotly.graph_objects as go\n",
    "from plotly.subplots import make_subplots\n",
    "import plotly.express as px\n",
    "from pathlib import Path\n",
    "import re\n",
    "\n",
    "# Set style\n",
    "plt.style.use('default')\n",
    "sns.set_palette(\"husl\")\n",
    "\n",
    "print(\"Libraries imported successfully\")"
   ]
  },
  {
   "cell_type": "markdown",
   "metadata": {},
   "source": [
    "## Data Extraction and Processing"
   ]
  },
  {
   "cell_type": "code",
   "execution_count": 2,
   "metadata": {},
   "outputs": [
    {
     "name": "stdout",
     "output_type": "stream",
     "text": [
      "Found 10 log files\n",
      "Extracted data for 50 agent instances from 10 experiments\n",
      "Shape: (50, 16)\n"
     ]
    },
    {
     "data": {
      "text/html": [
       "<div>\n",
       "<style scoped>\n",
       "    .dataframe tbody tr th:only-of-type {\n",
       "        vertical-align: middle;\n",
       "    }\n",
       "\n",
       "    .dataframe tbody tr th {\n",
       "        vertical-align: top;\n",
       "    }\n",
       "\n",
       "    .dataframe thead th {\n",
       "        text-align: right;\n",
       "    }\n",
       "</style>\n",
       "<table border=\"1\" class=\"dataframe\">\n",
       "  <thead>\n",
       "    <tr style=\"text-align: right;\">\n",
       "      <th></th>\n",
       "      <th>Config</th>\n",
       "      <th>Rounds</th>\n",
       "      <th>#Agents</th>\n",
       "      <th>Prompt</th>\n",
       "      <th>Model own</th>\n",
       "      <th>Model other agents</th>\n",
       "      <th>Temperature self</th>\n",
       "      <th>Initial Preference</th>\n",
       "      <th>Initial Preference Name</th>\n",
       "      <th>Final Preference</th>\n",
       "      <th>Final Preference Name</th>\n",
       "      <th>Agreement?</th>\n",
       "      <th>Agreed Principle</th>\n",
       "      <th>Agreed Principle Name</th>\n",
       "      <th>Agent Name</th>\n",
       "      <th>File</th>\n",
       "    </tr>\n",
       "  </thead>\n",
       "  <tbody>\n",
       "    <tr>\n",
       "      <th>0</th>\n",
       "      <td>default_config.yaml</td>\n",
       "      <td>4</td>\n",
       "      <td>5</td>\n",
       "      <td>You are an american college student.</td>\n",
       "      <td>anthropic/claude-sonnet-4</td>\n",
       "      <td>['anthropic/claude-sonnet-4', 'moonshotai/kimi...</td>\n",
       "      <td>0.0</td>\n",
       "      <td>3</td>\n",
       "      <td>maximizing_average_floor_constraint</td>\n",
       "      <td>3.0</td>\n",
       "      <td>maximizing_average_floor_constraint</td>\n",
       "      <td>Yes</td>\n",
       "      <td>3.0</td>\n",
       "      <td>maximizing_average_floor_constraint</td>\n",
       "      <td>Agent_1</td>\n",
       "      <td>config_03_results_20250811_035202</td>\n",
       "    </tr>\n",
       "    <tr>\n",
       "      <th>1</th>\n",
       "      <td>default_config.yaml</td>\n",
       "      <td>4</td>\n",
       "      <td>5</td>\n",
       "      <td>You are an american college student.</td>\n",
       "      <td>anthropic/claude-sonnet-4</td>\n",
       "      <td>['anthropic/claude-sonnet-4', 'moonshotai/kimi...</td>\n",
       "      <td>0.0</td>\n",
       "      <td>3</td>\n",
       "      <td>maximizing_average_floor_constraint</td>\n",
       "      <td>3.0</td>\n",
       "      <td>maximizing_average_floor_constraint</td>\n",
       "      <td>Yes</td>\n",
       "      <td>3.0</td>\n",
       "      <td>maximizing_average_floor_constraint</td>\n",
       "      <td>Agent_2</td>\n",
       "      <td>config_03_results_20250811_035202</td>\n",
       "    </tr>\n",
       "    <tr>\n",
       "      <th>2</th>\n",
       "      <td>default_config.yaml</td>\n",
       "      <td>4</td>\n",
       "      <td>5</td>\n",
       "      <td>You are an american college student.</td>\n",
       "      <td>moonshotai/kimi-k2</td>\n",
       "      <td>['anthropic/claude-sonnet-4', 'anthropic/claud...</td>\n",
       "      <td>0.0</td>\n",
       "      <td>3</td>\n",
       "      <td>maximizing_average_floor_constraint</td>\n",
       "      <td>3.0</td>\n",
       "      <td>maximizing_average_floor_constraint</td>\n",
       "      <td>Yes</td>\n",
       "      <td>3.0</td>\n",
       "      <td>maximizing_average_floor_constraint</td>\n",
       "      <td>Agent_3</td>\n",
       "      <td>config_03_results_20250811_035202</td>\n",
       "    </tr>\n",
       "    <tr>\n",
       "      <th>3</th>\n",
       "      <td>default_config.yaml</td>\n",
       "      <td>4</td>\n",
       "      <td>5</td>\n",
       "      <td>You are an american college student.</td>\n",
       "      <td>anthropic/claude-sonnet-4</td>\n",
       "      <td>['anthropic/claude-sonnet-4', 'anthropic/claud...</td>\n",
       "      <td>0.0</td>\n",
       "      <td>3</td>\n",
       "      <td>maximizing_average_floor_constraint</td>\n",
       "      <td>3.0</td>\n",
       "      <td>maximizing_average_floor_constraint</td>\n",
       "      <td>Yes</td>\n",
       "      <td>3.0</td>\n",
       "      <td>maximizing_average_floor_constraint</td>\n",
       "      <td>Agent_4</td>\n",
       "      <td>config_03_results_20250811_035202</td>\n",
       "    </tr>\n",
       "    <tr>\n",
       "      <th>4</th>\n",
       "      <td>default_config.yaml</td>\n",
       "      <td>4</td>\n",
       "      <td>5</td>\n",
       "      <td>You are an american college student.</td>\n",
       "      <td>meta-llama/llama-4-maverick</td>\n",
       "      <td>['anthropic/claude-sonnet-4', 'anthropic/claud...</td>\n",
       "      <td>0.0</td>\n",
       "      <td>3</td>\n",
       "      <td>maximizing_average_floor_constraint</td>\n",
       "      <td>3.0</td>\n",
       "      <td>maximizing_average_floor_constraint</td>\n",
       "      <td>Yes</td>\n",
       "      <td>3.0</td>\n",
       "      <td>maximizing_average_floor_constraint</td>\n",
       "      <td>Agent_5</td>\n",
       "      <td>config_03_results_20250811_035202</td>\n",
       "    </tr>\n",
       "  </tbody>\n",
       "</table>\n",
       "</div>"
      ],
      "text/plain": [
       "                Config  Rounds  #Agents                                Prompt  \\\n",
       "0  default_config.yaml       4        5  You are an american college student.   \n",
       "1  default_config.yaml       4        5  You are an american college student.   \n",
       "2  default_config.yaml       4        5  You are an american college student.   \n",
       "3  default_config.yaml       4        5  You are an american college student.   \n",
       "4  default_config.yaml       4        5  You are an american college student.   \n",
       "\n",
       "                     Model own  \\\n",
       "0    anthropic/claude-sonnet-4   \n",
       "1    anthropic/claude-sonnet-4   \n",
       "2           moonshotai/kimi-k2   \n",
       "3    anthropic/claude-sonnet-4   \n",
       "4  meta-llama/llama-4-maverick   \n",
       "\n",
       "                                  Model other agents  Temperature self  \\\n",
       "0  ['anthropic/claude-sonnet-4', 'moonshotai/kimi...               0.0   \n",
       "1  ['anthropic/claude-sonnet-4', 'moonshotai/kimi...               0.0   \n",
       "2  ['anthropic/claude-sonnet-4', 'anthropic/claud...               0.0   \n",
       "3  ['anthropic/claude-sonnet-4', 'anthropic/claud...               0.0   \n",
       "4  ['anthropic/claude-sonnet-4', 'anthropic/claud...               0.0   \n",
       "\n",
       "   Initial Preference              Initial Preference Name  Final Preference  \\\n",
       "0                   3  maximizing_average_floor_constraint               3.0   \n",
       "1                   3  maximizing_average_floor_constraint               3.0   \n",
       "2                   3  maximizing_average_floor_constraint               3.0   \n",
       "3                   3  maximizing_average_floor_constraint               3.0   \n",
       "4                   3  maximizing_average_floor_constraint               3.0   \n",
       "\n",
       "                 Final Preference Name Agreement?  Agreed Principle  \\\n",
       "0  maximizing_average_floor_constraint        Yes               3.0   \n",
       "1  maximizing_average_floor_constraint        Yes               3.0   \n",
       "2  maximizing_average_floor_constraint        Yes               3.0   \n",
       "3  maximizing_average_floor_constraint        Yes               3.0   \n",
       "4  maximizing_average_floor_constraint        Yes               3.0   \n",
       "\n",
       "                 Agreed Principle Name Agent Name  \\\n",
       "0  maximizing_average_floor_constraint    Agent_1   \n",
       "1  maximizing_average_floor_constraint    Agent_2   \n",
       "2  maximizing_average_floor_constraint    Agent_3   \n",
       "3  maximizing_average_floor_constraint    Agent_4   \n",
       "4  maximizing_average_floor_constraint    Agent_5   \n",
       "\n",
       "                                File  \n",
       "0  config_03_results_20250811_035202  \n",
       "1  config_03_results_20250811_035202  \n",
       "2  config_03_results_20250811_035202  \n",
       "3  config_03_results_20250811_035202  \n",
       "4  config_03_results_20250811_035202  "
      ]
     },
     "execution_count": 2,
     "metadata": {},
     "output_type": "execute_result"
    }
   ],
   "source": [
    "def extract_data_from_logs():\n",
    "    \"\"\"\n",
    "    Extract data from all JSON log files in the logs directory\n",
    "    Each row represents one agent from one experimental run\n",
    "    \"\"\"\n",
    "    logs_dir = Path('logs')\n",
    "    data = []\n",
    "    \n",
    "    # Get all JSON files in logs directory\n",
    "    json_files = list(logs_dir.glob('*.json'))\n",
    "    print(f\"Found {len(json_files)} log files\")\n",
    "    \n",
    "    for file_path in json_files:\n",
    "        try:\n",
    "            with open(file_path, 'r') as f:\n",
    "                log_data = json.load(f)\n",
    "            \n",
    "            # Extract general experiment info\n",
    "            general_info = log_data.get('general_information', {})\n",
    "            config_file = general_info.get('config_file_used', 'unknown')\n",
    "            consensus_reached = general_info.get('consensus_reached', False)\n",
    "            agreed_principle = general_info.get('consensus_principle', None)\n",
    "            \n",
    "            # Extract agent data\n",
    "            agents = log_data.get('agents', [])\n",
    "            \n",
    "            for agent in agents:\n",
    "                # Get agent basic info\n",
    "                agent_name = agent.get('name', 'unknown')\n",
    "                model = agent.get('model', 'unknown')\n",
    "                temperature = agent.get('temperature', 0)\n",
    "                personality = agent.get('personality', 'unknown')\n",
    "                \n",
    "                # Get initial preference (from phase 1 initial ranking)\n",
    "                phase1 = agent.get('phase_1', {})\n",
    "                initial_ranking = phase1.get('initial_ranking', {}).get('ranking_result', {})\n",
    "                rankings = initial_ranking.get('rankings', [])\n",
    "                \n",
    "                # Find the top-ranked principle (rank 1)\n",
    "                initial_preference = None\n",
    "                for ranking in rankings:\n",
    "                    if ranking.get('rank') == 1:\n",
    "                        initial_preference = ranking.get('principle')\n",
    "                        break\n",
    "                \n",
    "                # Get final preference from general_info vote results\n",
    "                final_vote_results = general_info.get('final_vote_results', {})\n",
    "                final_preference = final_vote_results.get(agent_name, None)\n",
    "                \n",
    "                # Count number of agents and rounds from config info\n",
    "                num_agents = len(agents)\n",
    "                \n",
    "                # Extract rounds info (assuming from demonstrations)\n",
    "                demonstrations = phase1.get('demonstrations', [])\n",
    "                num_rounds = len(demonstrations)\n",
    "                \n",
    "                # Map principle names to numbers for consistency with example.csv\n",
    "                principle_mapping = {\n",
    "                    'maximizing_floor': 1,\n",
    "                    'maximizing_average': 2, \n",
    "                    'maximizing_average_floor_constraint': 3,\n",
    "                    'maximizing_average_range_constraint': 4\n",
    "                }\n",
    "                \n",
    "                initial_pref_num = principle_mapping.get(initial_preference, None)\n",
    "                final_pref_num = principle_mapping.get(final_preference, None)\n",
    "                agreed_principle_num = principle_mapping.get(agreed_principle, None)\n",
    "                \n",
    "                # Create row for this agent\n",
    "                row = {\n",
    "                    'Config': config_file,\n",
    "                    'Rounds': num_rounds,\n",
    "                    '#Agents': num_agents,\n",
    "                    'Prompt': personality,\n",
    "                    'Model own': model,\n",
    "                    'Model other agents': str([a.get('model', 'unknown') for a in agents if a.get('name') != agent_name]),\n",
    "                    'Temperature self': temperature,\n",
    "                    'Initial Preference': initial_pref_num,\n",
    "                    'Initial Preference Name': initial_preference,\n",
    "                    'Final Preference': final_pref_num,\n",
    "                    'Final Preference Name': final_preference,\n",
    "                    'Agreement?': 'Yes' if consensus_reached else 'No',\n",
    "                    'Agreed Principle': agreed_principle_num,\n",
    "                    'Agreed Principle Name': agreed_principle,\n",
    "                    'Agent Name': agent_name,\n",
    "                    'File': file_path.stem\n",
    "                }\n",
    "                \n",
    "                data.append(row)\n",
    "                \n",
    "        except Exception as e:\n",
    "            print(f\"Error processing {file_path}: {e}\")\n",
    "            continue\n",
    "    \n",
    "    return pd.DataFrame(data)\n",
    "\n",
    "# Extract data\n",
    "df = extract_data_from_logs()\n",
    "print(f\"Extracted data for {len(df)} agent instances from {df['File'].nunique()} experiments\")\n",
    "print(f\"Shape: {df.shape}\")\n",
    "df.head()"
   ]
  },
  {
   "cell_type": "code",
   "execution_count": 3,
   "metadata": {},
   "outputs": [
    {
     "name": "stdout",
     "output_type": "stream",
     "text": [
      "=== Data Summary ===\n",
      "Total agents: 50\n",
      "Total experiments: 10\n",
      "Models used: ['anthropic/claude-sonnet-4' 'moonshotai/kimi-k2'\n",
      " 'meta-llama/llama-4-maverick' 'openai/gpt-4.1-mini'\n",
      " 'deepseek/deepseek-chat-v3-0324' 'google/gemini-2.5-flash'\n",
      " 'qwen/qwen3-coder' 'google/gemini-2.5-pro' 'x-ai/grok-4' 'openai/gpt-4.1']\n",
      "Agreement rate: 80.0%\n",
      "\n",
      "=== Data Info ===\n",
      "<class 'pandas.core.frame.DataFrame'>\n",
      "RangeIndex: 50 entries, 0 to 49\n",
      "Data columns (total 16 columns):\n",
      " #   Column                   Non-Null Count  Dtype  \n",
      "---  ------                   --------------  -----  \n",
      " 0   Config                   50 non-null     object \n",
      " 1   Rounds                   50 non-null     int64  \n",
      " 2   #Agents                  50 non-null     int64  \n",
      " 3   Prompt                   50 non-null     object \n",
      " 4   Model own                50 non-null     object \n",
      " 5   Model other agents       50 non-null     object \n",
      " 6   Temperature self         50 non-null     float64\n",
      " 7   Initial Preference       50 non-null     int64  \n",
      " 8   Initial Preference Name  50 non-null     object \n",
      " 9   Final Preference         40 non-null     float64\n",
      " 10  Final Preference Name    50 non-null     object \n",
      " 11  Agreement?               50 non-null     object \n",
      " 12  Agreed Principle         40 non-null     float64\n",
      " 13  Agreed Principle Name    40 non-null     object \n",
      " 14  Agent Name               50 non-null     object \n",
      " 15  File                     50 non-null     object \n",
      "dtypes: float64(3), int64(3), object(10)\n",
      "memory usage: 6.4+ KB\n"
     ]
    }
   ],
   "source": [
    "# Display basic statistics\n",
    "print(\"=== Data Summary ===\")\n",
    "print(f\"Total agents: {len(df)}\")\n",
    "print(f\"Total experiments: {df['File'].nunique()}\")\n",
    "print(f\"Models used: {df['Model own'].unique()}\")\n",
    "print(f\"Agreement rate: {(df['Agreement?'] == 'Yes').mean():.1%}\")\n",
    "print()\n",
    "\n",
    "# Show data types and missing values\n",
    "print(\"=== Data Info ===\")\n",
    "df.info()"
   ]
  },
  {
   "cell_type": "markdown",
   "metadata": {},
   "source": [
    "## 1. Sankey Chart: Initial vs Final Preferences"
   ]
  },
  {
   "cell_type": "code",
   "execution_count": 4,
   "metadata": {},
   "outputs": [
    {
     "data": {
      "application/vnd.plotly.v1+json": {
       "config": {
        "plotlyServerURL": "https://plot.ly"
       },
       "data": [
        {
         "link": {
          "color": "rgba(0,0,255,0.3)",
          "source": [
           2,
           0
          ],
          "target": [
           6,
           6
          ],
          "value": [
           39,
           1
          ]
         },
         "node": {
          "color": [
           "lightblue",
           "lightblue",
           "lightblue",
           "lightblue",
           "lightcoral",
           "lightcoral",
           "lightcoral",
           "lightcoral"
          ],
          "label": [
           "Initial: Floor Income",
           "Initial: Average Income",
           "Initial: Average + Floor Constraint",
           "Initial: Average + Range Constraint",
           "Final: Floor Income",
           "Final: Average Income",
           "Final: Average + Floor Constraint",
           "Final: Average + Range Constraint"
          ],
          "line": {
           "color": "black",
           "width": 0.5
          },
          "pad": 15,
          "thickness": 20
         },
         "type": "sankey"
        }
       ],
       "layout": {
        "font": {
         "size": 12
        },
        "height": 600,
        "template": {
         "data": {
          "bar": [
           {
            "error_x": {
             "color": "#2a3f5f"
            },
            "error_y": {
             "color": "#2a3f5f"
            },
            "marker": {
             "line": {
              "color": "#E5ECF6",
              "width": 0.5
             },
             "pattern": {
              "fillmode": "overlay",
              "size": 10,
              "solidity": 0.2
             }
            },
            "type": "bar"
           }
          ],
          "barpolar": [
           {
            "marker": {
             "line": {
              "color": "#E5ECF6",
              "width": 0.5
             },
             "pattern": {
              "fillmode": "overlay",
              "size": 10,
              "solidity": 0.2
             }
            },
            "type": "barpolar"
           }
          ],
          "carpet": [
           {
            "aaxis": {
             "endlinecolor": "#2a3f5f",
             "gridcolor": "white",
             "linecolor": "white",
             "minorgridcolor": "white",
             "startlinecolor": "#2a3f5f"
            },
            "baxis": {
             "endlinecolor": "#2a3f5f",
             "gridcolor": "white",
             "linecolor": "white",
             "minorgridcolor": "white",
             "startlinecolor": "#2a3f5f"
            },
            "type": "carpet"
           }
          ],
          "choropleth": [
           {
            "colorbar": {
             "outlinewidth": 0,
             "ticks": ""
            },
            "type": "choropleth"
           }
          ],
          "contour": [
           {
            "colorbar": {
             "outlinewidth": 0,
             "ticks": ""
            },
            "colorscale": [
             [
              0,
              "#0d0887"
             ],
             [
              0.1111111111111111,
              "#46039f"
             ],
             [
              0.2222222222222222,
              "#7201a8"
             ],
             [
              0.3333333333333333,
              "#9c179e"
             ],
             [
              0.4444444444444444,
              "#bd3786"
             ],
             [
              0.5555555555555556,
              "#d8576b"
             ],
             [
              0.6666666666666666,
              "#ed7953"
             ],
             [
              0.7777777777777778,
              "#fb9f3a"
             ],
             [
              0.8888888888888888,
              "#fdca26"
             ],
             [
              1,
              "#f0f921"
             ]
            ],
            "type": "contour"
           }
          ],
          "contourcarpet": [
           {
            "colorbar": {
             "outlinewidth": 0,
             "ticks": ""
            },
            "type": "contourcarpet"
           }
          ],
          "heatmap": [
           {
            "colorbar": {
             "outlinewidth": 0,
             "ticks": ""
            },
            "colorscale": [
             [
              0,
              "#0d0887"
             ],
             [
              0.1111111111111111,
              "#46039f"
             ],
             [
              0.2222222222222222,
              "#7201a8"
             ],
             [
              0.3333333333333333,
              "#9c179e"
             ],
             [
              0.4444444444444444,
              "#bd3786"
             ],
             [
              0.5555555555555556,
              "#d8576b"
             ],
             [
              0.6666666666666666,
              "#ed7953"
             ],
             [
              0.7777777777777778,
              "#fb9f3a"
             ],
             [
              0.8888888888888888,
              "#fdca26"
             ],
             [
              1,
              "#f0f921"
             ]
            ],
            "type": "heatmap"
           }
          ],
          "histogram": [
           {
            "marker": {
             "pattern": {
              "fillmode": "overlay",
              "size": 10,
              "solidity": 0.2
             }
            },
            "type": "histogram"
           }
          ],
          "histogram2d": [
           {
            "colorbar": {
             "outlinewidth": 0,
             "ticks": ""
            },
            "colorscale": [
             [
              0,
              "#0d0887"
             ],
             [
              0.1111111111111111,
              "#46039f"
             ],
             [
              0.2222222222222222,
              "#7201a8"
             ],
             [
              0.3333333333333333,
              "#9c179e"
             ],
             [
              0.4444444444444444,
              "#bd3786"
             ],
             [
              0.5555555555555556,
              "#d8576b"
             ],
             [
              0.6666666666666666,
              "#ed7953"
             ],
             [
              0.7777777777777778,
              "#fb9f3a"
             ],
             [
              0.8888888888888888,
              "#fdca26"
             ],
             [
              1,
              "#f0f921"
             ]
            ],
            "type": "histogram2d"
           }
          ],
          "histogram2dcontour": [
           {
            "colorbar": {
             "outlinewidth": 0,
             "ticks": ""
            },
            "colorscale": [
             [
              0,
              "#0d0887"
             ],
             [
              0.1111111111111111,
              "#46039f"
             ],
             [
              0.2222222222222222,
              "#7201a8"
             ],
             [
              0.3333333333333333,
              "#9c179e"
             ],
             [
              0.4444444444444444,
              "#bd3786"
             ],
             [
              0.5555555555555556,
              "#d8576b"
             ],
             [
              0.6666666666666666,
              "#ed7953"
             ],
             [
              0.7777777777777778,
              "#fb9f3a"
             ],
             [
              0.8888888888888888,
              "#fdca26"
             ],
             [
              1,
              "#f0f921"
             ]
            ],
            "type": "histogram2dcontour"
           }
          ],
          "mesh3d": [
           {
            "colorbar": {
             "outlinewidth": 0,
             "ticks": ""
            },
            "type": "mesh3d"
           }
          ],
          "parcoords": [
           {
            "line": {
             "colorbar": {
              "outlinewidth": 0,
              "ticks": ""
             }
            },
            "type": "parcoords"
           }
          ],
          "pie": [
           {
            "automargin": true,
            "type": "pie"
           }
          ],
          "scatter": [
           {
            "fillpattern": {
             "fillmode": "overlay",
             "size": 10,
             "solidity": 0.2
            },
            "type": "scatter"
           }
          ],
          "scatter3d": [
           {
            "line": {
             "colorbar": {
              "outlinewidth": 0,
              "ticks": ""
             }
            },
            "marker": {
             "colorbar": {
              "outlinewidth": 0,
              "ticks": ""
             }
            },
            "type": "scatter3d"
           }
          ],
          "scattercarpet": [
           {
            "marker": {
             "colorbar": {
              "outlinewidth": 0,
              "ticks": ""
             }
            },
            "type": "scattercarpet"
           }
          ],
          "scattergeo": [
           {
            "marker": {
             "colorbar": {
              "outlinewidth": 0,
              "ticks": ""
             }
            },
            "type": "scattergeo"
           }
          ],
          "scattergl": [
           {
            "marker": {
             "colorbar": {
              "outlinewidth": 0,
              "ticks": ""
             }
            },
            "type": "scattergl"
           }
          ],
          "scattermap": [
           {
            "marker": {
             "colorbar": {
              "outlinewidth": 0,
              "ticks": ""
             }
            },
            "type": "scattermap"
           }
          ],
          "scattermapbox": [
           {
            "marker": {
             "colorbar": {
              "outlinewidth": 0,
              "ticks": ""
             }
            },
            "type": "scattermapbox"
           }
          ],
          "scatterpolar": [
           {
            "marker": {
             "colorbar": {
              "outlinewidth": 0,
              "ticks": ""
             }
            },
            "type": "scatterpolar"
           }
          ],
          "scatterpolargl": [
           {
            "marker": {
             "colorbar": {
              "outlinewidth": 0,
              "ticks": ""
             }
            },
            "type": "scatterpolargl"
           }
          ],
          "scatterternary": [
           {
            "marker": {
             "colorbar": {
              "outlinewidth": 0,
              "ticks": ""
             }
            },
            "type": "scatterternary"
           }
          ],
          "surface": [
           {
            "colorbar": {
             "outlinewidth": 0,
             "ticks": ""
            },
            "colorscale": [
             [
              0,
              "#0d0887"
             ],
             [
              0.1111111111111111,
              "#46039f"
             ],
             [
              0.2222222222222222,
              "#7201a8"
             ],
             [
              0.3333333333333333,
              "#9c179e"
             ],
             [
              0.4444444444444444,
              "#bd3786"
             ],
             [
              0.5555555555555556,
              "#d8576b"
             ],
             [
              0.6666666666666666,
              "#ed7953"
             ],
             [
              0.7777777777777778,
              "#fb9f3a"
             ],
             [
              0.8888888888888888,
              "#fdca26"
             ],
             [
              1,
              "#f0f921"
             ]
            ],
            "type": "surface"
           }
          ],
          "table": [
           {
            "cells": {
             "fill": {
              "color": "#EBF0F8"
             },
             "line": {
              "color": "white"
             }
            },
            "header": {
             "fill": {
              "color": "#C8D4E3"
             },
             "line": {
              "color": "white"
             }
            },
            "type": "table"
           }
          ]
         },
         "layout": {
          "annotationdefaults": {
           "arrowcolor": "#2a3f5f",
           "arrowhead": 0,
           "arrowwidth": 1
          },
          "autotypenumbers": "strict",
          "coloraxis": {
           "colorbar": {
            "outlinewidth": 0,
            "ticks": ""
           }
          },
          "colorscale": {
           "diverging": [
            [
             0,
             "#8e0152"
            ],
            [
             0.1,
             "#c51b7d"
            ],
            [
             0.2,
             "#de77ae"
            ],
            [
             0.3,
             "#f1b6da"
            ],
            [
             0.4,
             "#fde0ef"
            ],
            [
             0.5,
             "#f7f7f7"
            ],
            [
             0.6,
             "#e6f5d0"
            ],
            [
             0.7,
             "#b8e186"
            ],
            [
             0.8,
             "#7fbc41"
            ],
            [
             0.9,
             "#4d9221"
            ],
            [
             1,
             "#276419"
            ]
           ],
           "sequential": [
            [
             0,
             "#0d0887"
            ],
            [
             0.1111111111111111,
             "#46039f"
            ],
            [
             0.2222222222222222,
             "#7201a8"
            ],
            [
             0.3333333333333333,
             "#9c179e"
            ],
            [
             0.4444444444444444,
             "#bd3786"
            ],
            [
             0.5555555555555556,
             "#d8576b"
            ],
            [
             0.6666666666666666,
             "#ed7953"
            ],
            [
             0.7777777777777778,
             "#fb9f3a"
            ],
            [
             0.8888888888888888,
             "#fdca26"
            ],
            [
             1,
             "#f0f921"
            ]
           ],
           "sequentialminus": [
            [
             0,
             "#0d0887"
            ],
            [
             0.1111111111111111,
             "#46039f"
            ],
            [
             0.2222222222222222,
             "#7201a8"
            ],
            [
             0.3333333333333333,
             "#9c179e"
            ],
            [
             0.4444444444444444,
             "#bd3786"
            ],
            [
             0.5555555555555556,
             "#d8576b"
            ],
            [
             0.6666666666666666,
             "#ed7953"
            ],
            [
             0.7777777777777778,
             "#fb9f3a"
            ],
            [
             0.8888888888888888,
             "#fdca26"
            ],
            [
             1,
             "#f0f921"
            ]
           ]
          },
          "colorway": [
           "#636efa",
           "#EF553B",
           "#00cc96",
           "#ab63fa",
           "#FFA15A",
           "#19d3f3",
           "#FF6692",
           "#B6E880",
           "#FF97FF",
           "#FECB52"
          ],
          "font": {
           "color": "#2a3f5f"
          },
          "geo": {
           "bgcolor": "white",
           "lakecolor": "white",
           "landcolor": "#E5ECF6",
           "showlakes": true,
           "showland": true,
           "subunitcolor": "white"
          },
          "hoverlabel": {
           "align": "left"
          },
          "hovermode": "closest",
          "mapbox": {
           "style": "light"
          },
          "paper_bgcolor": "white",
          "plot_bgcolor": "#E5ECF6",
          "polar": {
           "angularaxis": {
            "gridcolor": "white",
            "linecolor": "white",
            "ticks": ""
           },
           "bgcolor": "#E5ECF6",
           "radialaxis": {
            "gridcolor": "white",
            "linecolor": "white",
            "ticks": ""
           }
          },
          "scene": {
           "xaxis": {
            "backgroundcolor": "#E5ECF6",
            "gridcolor": "white",
            "gridwidth": 2,
            "linecolor": "white",
            "showbackground": true,
            "ticks": "",
            "zerolinecolor": "white"
           },
           "yaxis": {
            "backgroundcolor": "#E5ECF6",
            "gridcolor": "white",
            "gridwidth": 2,
            "linecolor": "white",
            "showbackground": true,
            "ticks": "",
            "zerolinecolor": "white"
           },
           "zaxis": {
            "backgroundcolor": "#E5ECF6",
            "gridcolor": "white",
            "gridwidth": 2,
            "linecolor": "white",
            "showbackground": true,
            "ticks": "",
            "zerolinecolor": "white"
           }
          },
          "shapedefaults": {
           "line": {
            "color": "#2a3f5f"
           }
          },
          "ternary": {
           "aaxis": {
            "gridcolor": "white",
            "linecolor": "white",
            "ticks": ""
           },
           "baxis": {
            "gridcolor": "white",
            "linecolor": "white",
            "ticks": ""
           },
           "bgcolor": "#E5ECF6",
           "caxis": {
            "gridcolor": "white",
            "linecolor": "white",
            "ticks": ""
           }
          },
          "title": {
           "x": 0.05
          },
          "xaxis": {
           "automargin": true,
           "gridcolor": "white",
           "linecolor": "white",
           "ticks": "",
           "title": {
            "standoff": 15
           },
           "zerolinecolor": "white",
           "zerolinewidth": 2
          },
          "yaxis": {
           "automargin": true,
           "gridcolor": "white",
           "linecolor": "white",
           "ticks": "",
           "title": {
            "standoff": 15
           },
           "zerolinecolor": "white",
           "zerolinewidth": 2
          }
         }
        },
        "title": {
         "text": "Agent Preference Changes: Initial → Final"
        }
       }
      }
     },
     "metadata": {},
     "output_type": "display_data"
    }
   ],
   "source": [
    "def create_sankey_chart(df):\n",
    "    \"\"\"\n",
    "    Create Sankey diagram showing flow from initial to final preferences\n",
    "    \"\"\"\n",
    "    # Filter out rows with missing preferences\n",
    "    df_clean = df.dropna(subset=['Initial Preference Name', 'Final Preference Name'])\n",
    "    \n",
    "    # Principle name mapping for display\n",
    "    principle_names = {\n",
    "        'maximizing_floor': 'Floor Income',\n",
    "        'maximizing_average': 'Average Income', \n",
    "        'maximizing_average_floor_constraint': 'Average + Floor Constraint',\n",
    "        'maximizing_average_range_constraint': 'Average + Range Constraint'\n",
    "    }\n",
    "    \n",
    "    # Map principle names\n",
    "    df_clean['Initial_Display'] = df_clean['Initial Preference Name'].map(principle_names)\n",
    "    df_clean['Final_Display'] = df_clean['Final Preference Name'].map(principle_names)\n",
    "    \n",
    "    # Create flow data\n",
    "    flows = df_clean.groupby(['Initial_Display', 'Final_Display']).size().reset_index(name='count')\n",
    "    \n",
    "    # Create node lists\n",
    "    initial_nodes = [f\"Initial: {name}\" for name in principle_names.values()]\n",
    "    final_nodes = [f\"Final: {name}\" for name in principle_names.values()]\n",
    "    all_nodes = initial_nodes + final_nodes\n",
    "    \n",
    "    # Create node index mapping\n",
    "    node_indices = {node: i for i, node in enumerate(all_nodes)}\n",
    "    \n",
    "    # Prepare source, target, and value lists\n",
    "    source = []\n",
    "    target = []\n",
    "    value = []\n",
    "    \n",
    "    for _, row in flows.iterrows():\n",
    "        initial_key = f\"Initial: {row['Initial_Display']}\"\n",
    "        final_key = f\"Final: {row['Final_Display']}\"\n",
    "        \n",
    "        if initial_key in node_indices and final_key in node_indices:\n",
    "            source.append(node_indices[initial_key])\n",
    "            target.append(node_indices[final_key])\n",
    "            value.append(row['count'])\n",
    "    \n",
    "    # Create Sankey diagram\n",
    "    fig = go.Figure(data=[go.Sankey(\n",
    "        node=dict(\n",
    "            pad=15,\n",
    "            thickness=20,\n",
    "            line=dict(color=\"black\", width=0.5),\n",
    "            label=all_nodes,\n",
    "            color=[\"lightblue\" if \"Initial\" in node else \"lightcoral\" for node in all_nodes]\n",
    "        ),\n",
    "        link=dict(\n",
    "            source=source,\n",
    "            target=target,\n",
    "            value=value,\n",
    "            color=\"rgba(0,0,255,0.3)\"\n",
    "        )\n",
    "    )])\n",
    "    \n",
    "    fig.update_layout(\n",
    "        title_text=\"Agent Preference Changes: Initial → Final\",\n",
    "        font_size=12,\n",
    "        height=600\n",
    "    )\n",
    "    \n",
    "    return fig\n",
    "\n",
    "sankey_fig = create_sankey_chart(df)\n",
    "sankey_fig.show()"
   ]
  },
  {
   "cell_type": "markdown",
   "metadata": {},
   "source": [
    "## 2. Pie Chart: Agreement Frequency"
   ]
  },
  {
   "cell_type": "code",
   "execution_count": 5,
   "metadata": {},
   "outputs": [
    {
     "data": {
      "application/vnd.plotly.v1+json": {
       "config": {
        "plotlyServerURL": "https://plot.ly"
       },
       "data": [
        {
         "domain": {
          "x": [
           0,
           1
          ],
          "y": [
           0,
           1
          ]
         },
         "hovertemplate": "label=%{label}<br>value=%{value}<extra></extra>",
         "labels": [
          "Yes",
          "No"
         ],
         "legendgroup": "",
         "name": "",
         "showlegend": true,
         "textfont": {
          "size": 14
         },
         "textinfo": "percent+label",
         "textposition": "inside",
         "type": "pie",
         "values": {
          "bdata": "CAI=",
          "dtype": "i1"
         }
        }
       ],
       "layout": {
        "font": {
         "size": 12
        },
        "height": 500,
        "legend": {
         "tracegroupgap": 0
        },
        "template": {
         "data": {
          "bar": [
           {
            "error_x": {
             "color": "#2a3f5f"
            },
            "error_y": {
             "color": "#2a3f5f"
            },
            "marker": {
             "line": {
              "color": "#E5ECF6",
              "width": 0.5
             },
             "pattern": {
              "fillmode": "overlay",
              "size": 10,
              "solidity": 0.2
             }
            },
            "type": "bar"
           }
          ],
          "barpolar": [
           {
            "marker": {
             "line": {
              "color": "#E5ECF6",
              "width": 0.5
             },
             "pattern": {
              "fillmode": "overlay",
              "size": 10,
              "solidity": 0.2
             }
            },
            "type": "barpolar"
           }
          ],
          "carpet": [
           {
            "aaxis": {
             "endlinecolor": "#2a3f5f",
             "gridcolor": "white",
             "linecolor": "white",
             "minorgridcolor": "white",
             "startlinecolor": "#2a3f5f"
            },
            "baxis": {
             "endlinecolor": "#2a3f5f",
             "gridcolor": "white",
             "linecolor": "white",
             "minorgridcolor": "white",
             "startlinecolor": "#2a3f5f"
            },
            "type": "carpet"
           }
          ],
          "choropleth": [
           {
            "colorbar": {
             "outlinewidth": 0,
             "ticks": ""
            },
            "type": "choropleth"
           }
          ],
          "contour": [
           {
            "colorbar": {
             "outlinewidth": 0,
             "ticks": ""
            },
            "colorscale": [
             [
              0,
              "#0d0887"
             ],
             [
              0.1111111111111111,
              "#46039f"
             ],
             [
              0.2222222222222222,
              "#7201a8"
             ],
             [
              0.3333333333333333,
              "#9c179e"
             ],
             [
              0.4444444444444444,
              "#bd3786"
             ],
             [
              0.5555555555555556,
              "#d8576b"
             ],
             [
              0.6666666666666666,
              "#ed7953"
             ],
             [
              0.7777777777777778,
              "#fb9f3a"
             ],
             [
              0.8888888888888888,
              "#fdca26"
             ],
             [
              1,
              "#f0f921"
             ]
            ],
            "type": "contour"
           }
          ],
          "contourcarpet": [
           {
            "colorbar": {
             "outlinewidth": 0,
             "ticks": ""
            },
            "type": "contourcarpet"
           }
          ],
          "heatmap": [
           {
            "colorbar": {
             "outlinewidth": 0,
             "ticks": ""
            },
            "colorscale": [
             [
              0,
              "#0d0887"
             ],
             [
              0.1111111111111111,
              "#46039f"
             ],
             [
              0.2222222222222222,
              "#7201a8"
             ],
             [
              0.3333333333333333,
              "#9c179e"
             ],
             [
              0.4444444444444444,
              "#bd3786"
             ],
             [
              0.5555555555555556,
              "#d8576b"
             ],
             [
              0.6666666666666666,
              "#ed7953"
             ],
             [
              0.7777777777777778,
              "#fb9f3a"
             ],
             [
              0.8888888888888888,
              "#fdca26"
             ],
             [
              1,
              "#f0f921"
             ]
            ],
            "type": "heatmap"
           }
          ],
          "histogram": [
           {
            "marker": {
             "pattern": {
              "fillmode": "overlay",
              "size": 10,
              "solidity": 0.2
             }
            },
            "type": "histogram"
           }
          ],
          "histogram2d": [
           {
            "colorbar": {
             "outlinewidth": 0,
             "ticks": ""
            },
            "colorscale": [
             [
              0,
              "#0d0887"
             ],
             [
              0.1111111111111111,
              "#46039f"
             ],
             [
              0.2222222222222222,
              "#7201a8"
             ],
             [
              0.3333333333333333,
              "#9c179e"
             ],
             [
              0.4444444444444444,
              "#bd3786"
             ],
             [
              0.5555555555555556,
              "#d8576b"
             ],
             [
              0.6666666666666666,
              "#ed7953"
             ],
             [
              0.7777777777777778,
              "#fb9f3a"
             ],
             [
              0.8888888888888888,
              "#fdca26"
             ],
             [
              1,
              "#f0f921"
             ]
            ],
            "type": "histogram2d"
           }
          ],
          "histogram2dcontour": [
           {
            "colorbar": {
             "outlinewidth": 0,
             "ticks": ""
            },
            "colorscale": [
             [
              0,
              "#0d0887"
             ],
             [
              0.1111111111111111,
              "#46039f"
             ],
             [
              0.2222222222222222,
              "#7201a8"
             ],
             [
              0.3333333333333333,
              "#9c179e"
             ],
             [
              0.4444444444444444,
              "#bd3786"
             ],
             [
              0.5555555555555556,
              "#d8576b"
             ],
             [
              0.6666666666666666,
              "#ed7953"
             ],
             [
              0.7777777777777778,
              "#fb9f3a"
             ],
             [
              0.8888888888888888,
              "#fdca26"
             ],
             [
              1,
              "#f0f921"
             ]
            ],
            "type": "histogram2dcontour"
           }
          ],
          "mesh3d": [
           {
            "colorbar": {
             "outlinewidth": 0,
             "ticks": ""
            },
            "type": "mesh3d"
           }
          ],
          "parcoords": [
           {
            "line": {
             "colorbar": {
              "outlinewidth": 0,
              "ticks": ""
             }
            },
            "type": "parcoords"
           }
          ],
          "pie": [
           {
            "automargin": true,
            "type": "pie"
           }
          ],
          "scatter": [
           {
            "fillpattern": {
             "fillmode": "overlay",
             "size": 10,
             "solidity": 0.2
            },
            "type": "scatter"
           }
          ],
          "scatter3d": [
           {
            "line": {
             "colorbar": {
              "outlinewidth": 0,
              "ticks": ""
             }
            },
            "marker": {
             "colorbar": {
              "outlinewidth": 0,
              "ticks": ""
             }
            },
            "type": "scatter3d"
           }
          ],
          "scattercarpet": [
           {
            "marker": {
             "colorbar": {
              "outlinewidth": 0,
              "ticks": ""
             }
            },
            "type": "scattercarpet"
           }
          ],
          "scattergeo": [
           {
            "marker": {
             "colorbar": {
              "outlinewidth": 0,
              "ticks": ""
             }
            },
            "type": "scattergeo"
           }
          ],
          "scattergl": [
           {
            "marker": {
             "colorbar": {
              "outlinewidth": 0,
              "ticks": ""
             }
            },
            "type": "scattergl"
           }
          ],
          "scattermap": [
           {
            "marker": {
             "colorbar": {
              "outlinewidth": 0,
              "ticks": ""
             }
            },
            "type": "scattermap"
           }
          ],
          "scattermapbox": [
           {
            "marker": {
             "colorbar": {
              "outlinewidth": 0,
              "ticks": ""
             }
            },
            "type": "scattermapbox"
           }
          ],
          "scatterpolar": [
           {
            "marker": {
             "colorbar": {
              "outlinewidth": 0,
              "ticks": ""
             }
            },
            "type": "scatterpolar"
           }
          ],
          "scatterpolargl": [
           {
            "marker": {
             "colorbar": {
              "outlinewidth": 0,
              "ticks": ""
             }
            },
            "type": "scatterpolargl"
           }
          ],
          "scatterternary": [
           {
            "marker": {
             "colorbar": {
              "outlinewidth": 0,
              "ticks": ""
             }
            },
            "type": "scatterternary"
           }
          ],
          "surface": [
           {
            "colorbar": {
             "outlinewidth": 0,
             "ticks": ""
            },
            "colorscale": [
             [
              0,
              "#0d0887"
             ],
             [
              0.1111111111111111,
              "#46039f"
             ],
             [
              0.2222222222222222,
              "#7201a8"
             ],
             [
              0.3333333333333333,
              "#9c179e"
             ],
             [
              0.4444444444444444,
              "#bd3786"
             ],
             [
              0.5555555555555556,
              "#d8576b"
             ],
             [
              0.6666666666666666,
              "#ed7953"
             ],
             [
              0.7777777777777778,
              "#fb9f3a"
             ],
             [
              0.8888888888888888,
              "#fdca26"
             ],
             [
              1,
              "#f0f921"
             ]
            ],
            "type": "surface"
           }
          ],
          "table": [
           {
            "cells": {
             "fill": {
              "color": "#EBF0F8"
             },
             "line": {
              "color": "white"
             }
            },
            "header": {
             "fill": {
              "color": "#C8D4E3"
             },
             "line": {
              "color": "white"
             }
            },
            "type": "table"
           }
          ]
         },
         "layout": {
          "annotationdefaults": {
           "arrowcolor": "#2a3f5f",
           "arrowhead": 0,
           "arrowwidth": 1
          },
          "autotypenumbers": "strict",
          "coloraxis": {
           "colorbar": {
            "outlinewidth": 0,
            "ticks": ""
           }
          },
          "colorscale": {
           "diverging": [
            [
             0,
             "#8e0152"
            ],
            [
             0.1,
             "#c51b7d"
            ],
            [
             0.2,
             "#de77ae"
            ],
            [
             0.3,
             "#f1b6da"
            ],
            [
             0.4,
             "#fde0ef"
            ],
            [
             0.5,
             "#f7f7f7"
            ],
            [
             0.6,
             "#e6f5d0"
            ],
            [
             0.7,
             "#b8e186"
            ],
            [
             0.8,
             "#7fbc41"
            ],
            [
             0.9,
             "#4d9221"
            ],
            [
             1,
             "#276419"
            ]
           ],
           "sequential": [
            [
             0,
             "#0d0887"
            ],
            [
             0.1111111111111111,
             "#46039f"
            ],
            [
             0.2222222222222222,
             "#7201a8"
            ],
            [
             0.3333333333333333,
             "#9c179e"
            ],
            [
             0.4444444444444444,
             "#bd3786"
            ],
            [
             0.5555555555555556,
             "#d8576b"
            ],
            [
             0.6666666666666666,
             "#ed7953"
            ],
            [
             0.7777777777777778,
             "#fb9f3a"
            ],
            [
             0.8888888888888888,
             "#fdca26"
            ],
            [
             1,
             "#f0f921"
            ]
           ],
           "sequentialminus": [
            [
             0,
             "#0d0887"
            ],
            [
             0.1111111111111111,
             "#46039f"
            ],
            [
             0.2222222222222222,
             "#7201a8"
            ],
            [
             0.3333333333333333,
             "#9c179e"
            ],
            [
             0.4444444444444444,
             "#bd3786"
            ],
            [
             0.5555555555555556,
             "#d8576b"
            ],
            [
             0.6666666666666666,
             "#ed7953"
            ],
            [
             0.7777777777777778,
             "#fb9f3a"
            ],
            [
             0.8888888888888888,
             "#fdca26"
            ],
            [
             1,
             "#f0f921"
            ]
           ]
          },
          "colorway": [
           "#636efa",
           "#EF553B",
           "#00cc96",
           "#ab63fa",
           "#FFA15A",
           "#19d3f3",
           "#FF6692",
           "#B6E880",
           "#FF97FF",
           "#FECB52"
          ],
          "font": {
           "color": "#2a3f5f"
          },
          "geo": {
           "bgcolor": "white",
           "lakecolor": "white",
           "landcolor": "#E5ECF6",
           "showlakes": true,
           "showland": true,
           "subunitcolor": "white"
          },
          "hoverlabel": {
           "align": "left"
          },
          "hovermode": "closest",
          "mapbox": {
           "style": "light"
          },
          "paper_bgcolor": "white",
          "plot_bgcolor": "#E5ECF6",
          "polar": {
           "angularaxis": {
            "gridcolor": "white",
            "linecolor": "white",
            "ticks": ""
           },
           "bgcolor": "#E5ECF6",
           "radialaxis": {
            "gridcolor": "white",
            "linecolor": "white",
            "ticks": ""
           }
          },
          "scene": {
           "xaxis": {
            "backgroundcolor": "#E5ECF6",
            "gridcolor": "white",
            "gridwidth": 2,
            "linecolor": "white",
            "showbackground": true,
            "ticks": "",
            "zerolinecolor": "white"
           },
           "yaxis": {
            "backgroundcolor": "#E5ECF6",
            "gridcolor": "white",
            "gridwidth": 2,
            "linecolor": "white",
            "showbackground": true,
            "ticks": "",
            "zerolinecolor": "white"
           },
           "zaxis": {
            "backgroundcolor": "#E5ECF6",
            "gridcolor": "white",
            "gridwidth": 2,
            "linecolor": "white",
            "showbackground": true,
            "ticks": "",
            "zerolinecolor": "white"
           }
          },
          "shapedefaults": {
           "line": {
            "color": "#2a3f5f"
           }
          },
          "ternary": {
           "aaxis": {
            "gridcolor": "white",
            "linecolor": "white",
            "ticks": ""
           },
           "baxis": {
            "gridcolor": "white",
            "linecolor": "white",
            "ticks": ""
           },
           "bgcolor": "#E5ECF6",
           "caxis": {
            "gridcolor": "white",
            "linecolor": "white",
            "ticks": ""
           }
          },
          "title": {
           "x": 0.05
          },
          "xaxis": {
           "automargin": true,
           "gridcolor": "white",
           "linecolor": "white",
           "ticks": "",
           "title": {
            "standoff": 15
           },
           "zerolinecolor": "white",
           "zerolinewidth": 2
          },
          "yaxis": {
           "automargin": true,
           "gridcolor": "white",
           "linecolor": "white",
           "ticks": "",
           "title": {
            "standoff": 15
           },
           "zerolinecolor": "white",
           "zerolinewidth": 2
          }
         }
        },
        "title": {
         "text": "Agreement Rate Across 10 Experiments"
        }
       }
      }
     },
     "metadata": {},
     "output_type": "display_data"
    },
    {
     "name": "stdout",
     "output_type": "stream",
     "text": [
      "\n",
      "Agreement Statistics:\n",
      "Yes: 8 experiments (80.0%)\n",
      "No: 2 experiments (20.0%)\n"
     ]
    }
   ],
   "source": [
    "def create_agreement_pie_chart(df):\n",
    "    \"\"\"\n",
    "    Create pie chart showing agreement frequency across experiments\n",
    "    \"\"\"\n",
    "    # Get unique experiments and their agreement status\n",
    "    experiment_agreement = df.groupby('File')['Agreement?'].first()\n",
    "    agreement_counts = experiment_agreement.value_counts()\n",
    "    \n",
    "    fig = px.pie(\n",
    "        values=agreement_counts.values, \n",
    "        names=agreement_counts.index,\n",
    "        title=f\"Agreement Rate Across {len(experiment_agreement)} Experiments\",\n",
    "        color_discrete_map={'Yes': '#2E8B57', 'No': '#CD5C5C'}\n",
    "    )\n",
    "    \n",
    "    fig.update_traces(\n",
    "        textposition='inside',\n",
    "        textinfo='percent+label',\n",
    "        textfont_size=14\n",
    "    )\n",
    "    \n",
    "    fig.update_layout(\n",
    "        font_size=12,\n",
    "        height=500\n",
    "    )\n",
    "    \n",
    "    return fig, agreement_counts\n",
    "\n",
    "agreement_fig, agreement_stats = create_agreement_pie_chart(df)\n",
    "agreement_fig.show()\n",
    "\n",
    "print(f\"\\nAgreement Statistics:\")\n",
    "for status, count in agreement_stats.items():\n",
    "    percentage = count / agreement_stats.sum() * 100\n",
    "    print(f\"{status}: {count} experiments ({percentage:.1f}%)\")"
   ]
  },
  {
   "cell_type": "markdown",
   "metadata": {},
   "source": [
    "## 3. Bar Chart: Agreement by Principle"
   ]
  },
  {
   "cell_type": "code",
   "execution_count": 6,
   "metadata": {},
   "outputs": [
    {
     "data": {
      "application/vnd.plotly.v1+json": {
       "config": {
        "plotlyServerURL": "https://plot.ly"
       },
       "data": [
        {
         "hovertemplate": "Justice Principle=%{x}<br>Number of Agreements=%{y}<br>color=%{marker.color}<extra></extra>",
         "legendgroup": "",
         "marker": {
          "color": {
           "bdata": "CA==",
           "dtype": "i1"
          },
          "coloraxis": "coloraxis",
          "pattern": {
           "shape": ""
          }
         },
         "name": "",
         "orientation": "v",
         "showlegend": false,
         "textposition": "outside",
         "texttemplate": "%{y}",
         "type": "bar",
         "x": [
          "Average + Floor Constraint"
         ],
         "xaxis": "x",
         "y": {
          "bdata": "CA==",
          "dtype": "i1"
         },
         "yaxis": "y"
        }
       ],
       "layout": {
        "barmode": "relative",
        "coloraxis": {
         "colorbar": {
          "title": {
           "text": "color"
          }
         },
         "colorscale": [
          [
           0,
           "#440154"
          ],
          [
           0.1111111111111111,
           "#482878"
          ],
          [
           0.2222222222222222,
           "#3e4989"
          ],
          [
           0.3333333333333333,
           "#31688e"
          ],
          [
           0.4444444444444444,
           "#26828e"
          ],
          [
           0.5555555555555556,
           "#1f9e89"
          ],
          [
           0.6666666666666666,
           "#35b779"
          ],
          [
           0.7777777777777778,
           "#6ece58"
          ],
          [
           0.8888888888888888,
           "#b5de2b"
          ],
          [
           1,
           "#fde725"
          ]
         ]
        },
        "font": {
         "size": 12
        },
        "height": 500,
        "legend": {
         "tracegroupgap": 0
        },
        "showlegend": false,
        "template": {
         "data": {
          "bar": [
           {
            "error_x": {
             "color": "#2a3f5f"
            },
            "error_y": {
             "color": "#2a3f5f"
            },
            "marker": {
             "line": {
              "color": "#E5ECF6",
              "width": 0.5
             },
             "pattern": {
              "fillmode": "overlay",
              "size": 10,
              "solidity": 0.2
             }
            },
            "type": "bar"
           }
          ],
          "barpolar": [
           {
            "marker": {
             "line": {
              "color": "#E5ECF6",
              "width": 0.5
             },
             "pattern": {
              "fillmode": "overlay",
              "size": 10,
              "solidity": 0.2
             }
            },
            "type": "barpolar"
           }
          ],
          "carpet": [
           {
            "aaxis": {
             "endlinecolor": "#2a3f5f",
             "gridcolor": "white",
             "linecolor": "white",
             "minorgridcolor": "white",
             "startlinecolor": "#2a3f5f"
            },
            "baxis": {
             "endlinecolor": "#2a3f5f",
             "gridcolor": "white",
             "linecolor": "white",
             "minorgridcolor": "white",
             "startlinecolor": "#2a3f5f"
            },
            "type": "carpet"
           }
          ],
          "choropleth": [
           {
            "colorbar": {
             "outlinewidth": 0,
             "ticks": ""
            },
            "type": "choropleth"
           }
          ],
          "contour": [
           {
            "colorbar": {
             "outlinewidth": 0,
             "ticks": ""
            },
            "colorscale": [
             [
              0,
              "#0d0887"
             ],
             [
              0.1111111111111111,
              "#46039f"
             ],
             [
              0.2222222222222222,
              "#7201a8"
             ],
             [
              0.3333333333333333,
              "#9c179e"
             ],
             [
              0.4444444444444444,
              "#bd3786"
             ],
             [
              0.5555555555555556,
              "#d8576b"
             ],
             [
              0.6666666666666666,
              "#ed7953"
             ],
             [
              0.7777777777777778,
              "#fb9f3a"
             ],
             [
              0.8888888888888888,
              "#fdca26"
             ],
             [
              1,
              "#f0f921"
             ]
            ],
            "type": "contour"
           }
          ],
          "contourcarpet": [
           {
            "colorbar": {
             "outlinewidth": 0,
             "ticks": ""
            },
            "type": "contourcarpet"
           }
          ],
          "heatmap": [
           {
            "colorbar": {
             "outlinewidth": 0,
             "ticks": ""
            },
            "colorscale": [
             [
              0,
              "#0d0887"
             ],
             [
              0.1111111111111111,
              "#46039f"
             ],
             [
              0.2222222222222222,
              "#7201a8"
             ],
             [
              0.3333333333333333,
              "#9c179e"
             ],
             [
              0.4444444444444444,
              "#bd3786"
             ],
             [
              0.5555555555555556,
              "#d8576b"
             ],
             [
              0.6666666666666666,
              "#ed7953"
             ],
             [
              0.7777777777777778,
              "#fb9f3a"
             ],
             [
              0.8888888888888888,
              "#fdca26"
             ],
             [
              1,
              "#f0f921"
             ]
            ],
            "type": "heatmap"
           }
          ],
          "histogram": [
           {
            "marker": {
             "pattern": {
              "fillmode": "overlay",
              "size": 10,
              "solidity": 0.2
             }
            },
            "type": "histogram"
           }
          ],
          "histogram2d": [
           {
            "colorbar": {
             "outlinewidth": 0,
             "ticks": ""
            },
            "colorscale": [
             [
              0,
              "#0d0887"
             ],
             [
              0.1111111111111111,
              "#46039f"
             ],
             [
              0.2222222222222222,
              "#7201a8"
             ],
             [
              0.3333333333333333,
              "#9c179e"
             ],
             [
              0.4444444444444444,
              "#bd3786"
             ],
             [
              0.5555555555555556,
              "#d8576b"
             ],
             [
              0.6666666666666666,
              "#ed7953"
             ],
             [
              0.7777777777777778,
              "#fb9f3a"
             ],
             [
              0.8888888888888888,
              "#fdca26"
             ],
             [
              1,
              "#f0f921"
             ]
            ],
            "type": "histogram2d"
           }
          ],
          "histogram2dcontour": [
           {
            "colorbar": {
             "outlinewidth": 0,
             "ticks": ""
            },
            "colorscale": [
             [
              0,
              "#0d0887"
             ],
             [
              0.1111111111111111,
              "#46039f"
             ],
             [
              0.2222222222222222,
              "#7201a8"
             ],
             [
              0.3333333333333333,
              "#9c179e"
             ],
             [
              0.4444444444444444,
              "#bd3786"
             ],
             [
              0.5555555555555556,
              "#d8576b"
             ],
             [
              0.6666666666666666,
              "#ed7953"
             ],
             [
              0.7777777777777778,
              "#fb9f3a"
             ],
             [
              0.8888888888888888,
              "#fdca26"
             ],
             [
              1,
              "#f0f921"
             ]
            ],
            "type": "histogram2dcontour"
           }
          ],
          "mesh3d": [
           {
            "colorbar": {
             "outlinewidth": 0,
             "ticks": ""
            },
            "type": "mesh3d"
           }
          ],
          "parcoords": [
           {
            "line": {
             "colorbar": {
              "outlinewidth": 0,
              "ticks": ""
             }
            },
            "type": "parcoords"
           }
          ],
          "pie": [
           {
            "automargin": true,
            "type": "pie"
           }
          ],
          "scatter": [
           {
            "fillpattern": {
             "fillmode": "overlay",
             "size": 10,
             "solidity": 0.2
            },
            "type": "scatter"
           }
          ],
          "scatter3d": [
           {
            "line": {
             "colorbar": {
              "outlinewidth": 0,
              "ticks": ""
             }
            },
            "marker": {
             "colorbar": {
              "outlinewidth": 0,
              "ticks": ""
             }
            },
            "type": "scatter3d"
           }
          ],
          "scattercarpet": [
           {
            "marker": {
             "colorbar": {
              "outlinewidth": 0,
              "ticks": ""
             }
            },
            "type": "scattercarpet"
           }
          ],
          "scattergeo": [
           {
            "marker": {
             "colorbar": {
              "outlinewidth": 0,
              "ticks": ""
             }
            },
            "type": "scattergeo"
           }
          ],
          "scattergl": [
           {
            "marker": {
             "colorbar": {
              "outlinewidth": 0,
              "ticks": ""
             }
            },
            "type": "scattergl"
           }
          ],
          "scattermap": [
           {
            "marker": {
             "colorbar": {
              "outlinewidth": 0,
              "ticks": ""
             }
            },
            "type": "scattermap"
           }
          ],
          "scattermapbox": [
           {
            "marker": {
             "colorbar": {
              "outlinewidth": 0,
              "ticks": ""
             }
            },
            "type": "scattermapbox"
           }
          ],
          "scatterpolar": [
           {
            "marker": {
             "colorbar": {
              "outlinewidth": 0,
              "ticks": ""
             }
            },
            "type": "scatterpolar"
           }
          ],
          "scatterpolargl": [
           {
            "marker": {
             "colorbar": {
              "outlinewidth": 0,
              "ticks": ""
             }
            },
            "type": "scatterpolargl"
           }
          ],
          "scatterternary": [
           {
            "marker": {
             "colorbar": {
              "outlinewidth": 0,
              "ticks": ""
             }
            },
            "type": "scatterternary"
           }
          ],
          "surface": [
           {
            "colorbar": {
             "outlinewidth": 0,
             "ticks": ""
            },
            "colorscale": [
             [
              0,
              "#0d0887"
             ],
             [
              0.1111111111111111,
              "#46039f"
             ],
             [
              0.2222222222222222,
              "#7201a8"
             ],
             [
              0.3333333333333333,
              "#9c179e"
             ],
             [
              0.4444444444444444,
              "#bd3786"
             ],
             [
              0.5555555555555556,
              "#d8576b"
             ],
             [
              0.6666666666666666,
              "#ed7953"
             ],
             [
              0.7777777777777778,
              "#fb9f3a"
             ],
             [
              0.8888888888888888,
              "#fdca26"
             ],
             [
              1,
              "#f0f921"
             ]
            ],
            "type": "surface"
           }
          ],
          "table": [
           {
            "cells": {
             "fill": {
              "color": "#EBF0F8"
             },
             "line": {
              "color": "white"
             }
            },
            "header": {
             "fill": {
              "color": "#C8D4E3"
             },
             "line": {
              "color": "white"
             }
            },
            "type": "table"
           }
          ]
         },
         "layout": {
          "annotationdefaults": {
           "arrowcolor": "#2a3f5f",
           "arrowhead": 0,
           "arrowwidth": 1
          },
          "autotypenumbers": "strict",
          "coloraxis": {
           "colorbar": {
            "outlinewidth": 0,
            "ticks": ""
           }
          },
          "colorscale": {
           "diverging": [
            [
             0,
             "#8e0152"
            ],
            [
             0.1,
             "#c51b7d"
            ],
            [
             0.2,
             "#de77ae"
            ],
            [
             0.3,
             "#f1b6da"
            ],
            [
             0.4,
             "#fde0ef"
            ],
            [
             0.5,
             "#f7f7f7"
            ],
            [
             0.6,
             "#e6f5d0"
            ],
            [
             0.7,
             "#b8e186"
            ],
            [
             0.8,
             "#7fbc41"
            ],
            [
             0.9,
             "#4d9221"
            ],
            [
             1,
             "#276419"
            ]
           ],
           "sequential": [
            [
             0,
             "#0d0887"
            ],
            [
             0.1111111111111111,
             "#46039f"
            ],
            [
             0.2222222222222222,
             "#7201a8"
            ],
            [
             0.3333333333333333,
             "#9c179e"
            ],
            [
             0.4444444444444444,
             "#bd3786"
            ],
            [
             0.5555555555555556,
             "#d8576b"
            ],
            [
             0.6666666666666666,
             "#ed7953"
            ],
            [
             0.7777777777777778,
             "#fb9f3a"
            ],
            [
             0.8888888888888888,
             "#fdca26"
            ],
            [
             1,
             "#f0f921"
            ]
           ],
           "sequentialminus": [
            [
             0,
             "#0d0887"
            ],
            [
             0.1111111111111111,
             "#46039f"
            ],
            [
             0.2222222222222222,
             "#7201a8"
            ],
            [
             0.3333333333333333,
             "#9c179e"
            ],
            [
             0.4444444444444444,
             "#bd3786"
            ],
            [
             0.5555555555555556,
             "#d8576b"
            ],
            [
             0.6666666666666666,
             "#ed7953"
            ],
            [
             0.7777777777777778,
             "#fb9f3a"
            ],
            [
             0.8888888888888888,
             "#fdca26"
            ],
            [
             1,
             "#f0f921"
            ]
           ]
          },
          "colorway": [
           "#636efa",
           "#EF553B",
           "#00cc96",
           "#ab63fa",
           "#FFA15A",
           "#19d3f3",
           "#FF6692",
           "#B6E880",
           "#FF97FF",
           "#FECB52"
          ],
          "font": {
           "color": "#2a3f5f"
          },
          "geo": {
           "bgcolor": "white",
           "lakecolor": "white",
           "landcolor": "#E5ECF6",
           "showlakes": true,
           "showland": true,
           "subunitcolor": "white"
          },
          "hoverlabel": {
           "align": "left"
          },
          "hovermode": "closest",
          "mapbox": {
           "style": "light"
          },
          "paper_bgcolor": "white",
          "plot_bgcolor": "#E5ECF6",
          "polar": {
           "angularaxis": {
            "gridcolor": "white",
            "linecolor": "white",
            "ticks": ""
           },
           "bgcolor": "#E5ECF6",
           "radialaxis": {
            "gridcolor": "white",
            "linecolor": "white",
            "ticks": ""
           }
          },
          "scene": {
           "xaxis": {
            "backgroundcolor": "#E5ECF6",
            "gridcolor": "white",
            "gridwidth": 2,
            "linecolor": "white",
            "showbackground": true,
            "ticks": "",
            "zerolinecolor": "white"
           },
           "yaxis": {
            "backgroundcolor": "#E5ECF6",
            "gridcolor": "white",
            "gridwidth": 2,
            "linecolor": "white",
            "showbackground": true,
            "ticks": "",
            "zerolinecolor": "white"
           },
           "zaxis": {
            "backgroundcolor": "#E5ECF6",
            "gridcolor": "white",
            "gridwidth": 2,
            "linecolor": "white",
            "showbackground": true,
            "ticks": "",
            "zerolinecolor": "white"
           }
          },
          "shapedefaults": {
           "line": {
            "color": "#2a3f5f"
           }
          },
          "ternary": {
           "aaxis": {
            "gridcolor": "white",
            "linecolor": "white",
            "ticks": ""
           },
           "baxis": {
            "gridcolor": "white",
            "linecolor": "white",
            "ticks": ""
           },
           "bgcolor": "#E5ECF6",
           "caxis": {
            "gridcolor": "white",
            "linecolor": "white",
            "ticks": ""
           }
          },
          "title": {
           "x": 0.05
          },
          "xaxis": {
           "automargin": true,
           "gridcolor": "white",
           "linecolor": "white",
           "ticks": "",
           "title": {
            "standoff": 15
           },
           "zerolinecolor": "white",
           "zerolinewidth": 2
          },
          "yaxis": {
           "automargin": true,
           "gridcolor": "white",
           "linecolor": "white",
           "ticks": "",
           "title": {
            "standoff": 15
           },
           "zerolinecolor": "white",
           "zerolinewidth": 2
          }
         }
        },
        "title": {
         "text": "Principles Agreed Upon (When Consensus Reached, n=8)"
        },
        "xaxis": {
         "anchor": "y",
         "domain": [
          0,
          1
         ],
         "title": {
          "text": "Justice Principle"
         }
        },
        "yaxis": {
         "anchor": "x",
         "domain": [
          0,
          1
         ],
         "title": {
          "text": "Number of Agreements"
         }
        }
       }
      }
     },
     "metadata": {},
     "output_type": "display_data"
    },
    {
     "name": "stdout",
     "output_type": "stream",
     "text": [
      "\n",
      "Principle Agreement Statistics:\n",
      "maximizing_average_floor_constraint: 8 agreements (100.0%)\n"
     ]
    }
   ],
   "source": [
    "def create_agreement_by_principle_chart(df):\n",
    "    \"\"\"\n",
    "    Create bar chart showing which principles were agreed upon when consensus was reached\n",
    "    \"\"\"\n",
    "    # Filter only experiments with agreement\n",
    "    agreed_experiments = df[df['Agreement?'] == 'Yes']\n",
    "    \n",
    "    if len(agreed_experiments) == 0:\n",
    "        print(\"No experiments with agreement found.\")\n",
    "        return None, None\n",
    "    \n",
    "    # Get unique experiments and their agreed principles\n",
    "    experiment_principles = agreed_experiments.groupby('File')['Agreed Principle Name'].first()\n",
    "    principle_counts = experiment_principles.value_counts()\n",
    "    \n",
    "    # Principle name mapping for display\n",
    "    principle_names = {\n",
    "        'maximizing_floor': 'Floor Income',\n",
    "        'maximizing_average': 'Average Income', \n",
    "        'maximizing_average_floor_constraint': 'Average + Floor Constraint',\n",
    "        'maximizing_average_range_constraint': 'Average + Range Constraint'\n",
    "    }\n",
    "    \n",
    "    # Map principle names for display\n",
    "    display_names = [principle_names.get(p, p) for p in principle_counts.index]\n",
    "    \n",
    "    fig = px.bar(\n",
    "        x=display_names,\n",
    "        y=principle_counts.values,\n",
    "        title=f\"Principles Agreed Upon (When Consensus Reached, n={len(experiment_principles)})\",\n",
    "        labels={'x': 'Justice Principle', 'y': 'Number of Agreements'},\n",
    "        color=principle_counts.values,\n",
    "        color_continuous_scale='viridis'\n",
    "    )\n",
    "    \n",
    "    fig.update_layout(\n",
    "        xaxis_title=\"Justice Principle\",\n",
    "        yaxis_title=\"Number of Agreements\",\n",
    "        height=500,\n",
    "        font_size=12,\n",
    "        showlegend=False\n",
    "    )\n",
    "    \n",
    "    # Add value labels on bars\n",
    "    fig.update_traces(\n",
    "        texttemplate='%{y}',\n",
    "        textposition='outside'\n",
    "    )\n",
    "    \n",
    "    return fig, principle_counts\n",
    "\n",
    "principle_agreement_fig, principle_stats = create_agreement_by_principle_chart(df)\n",
    "if principle_agreement_fig:\n",
    "    principle_agreement_fig.show()\n",
    "    \n",
    "    print(f\"\\nPrinciple Agreement Statistics:\")\n",
    "    for principle, count in principle_stats.items():\n",
    "        percentage = count / principle_stats.sum() * 100\n",
    "        print(f\"{principle}: {count} agreements ({percentage:.1f}%)\")\n",
    "else:\n",
    "    print(\"No agreement data available for visualization.\")"
   ]
  },
  {
   "cell_type": "markdown",
   "metadata": {},
   "source": [
    "## 4. Bar Chart: Model Type Preference Analysis"
   ]
  },
  {
   "cell_type": "code",
   "execution_count": 12,
   "metadata": {},
   "outputs": [
    {
     "data": {
      "application/vnd.plotly.v1+json": {
       "config": {
        "plotlyServerURL": "https://plot.ly"
       },
       "data": [
        {
         "marker": {
          "color": "rgb(102,194,165)"
         },
         "name": "Average + Floor Constraint",
         "showlegend": true,
         "type": "bar",
         "x": [
          "anthropic/claude-sonnet-4",
          "deepseek/deepseek-chat-v3-0324",
          "google/gemini-2.5-flash",
          "google/gemini-2.5-pro",
          "meta-llama/llama-4-maverick",
          "moonshotai/kimi-k2",
          "openai/gpt-4.1",
          "openai/gpt-4.1-mini",
          "qwen/qwen3-coder",
          "x-ai/grok-4"
         ],
         "xaxis": "x",
         "y": {
          "bdata": "CQMLAQULAQQBAw==",
          "dtype": "i1"
         },
         "yaxis": "y"
        },
        {
         "marker": {
          "color": "rgb(252,141,98)"
         },
         "name": "Floor Income",
         "showlegend": true,
         "type": "bar",
         "x": [
          "anthropic/claude-sonnet-4",
          "deepseek/deepseek-chat-v3-0324",
          "google/gemini-2.5-flash",
          "google/gemini-2.5-pro",
          "meta-llama/llama-4-maverick",
          "moonshotai/kimi-k2",
          "openai/gpt-4.1",
          "openai/gpt-4.1-mini",
          "qwen/qwen3-coder",
          "x-ai/grok-4"
         ],
         "xaxis": "x",
         "y": {
          "bdata": "AAAAAAAAAAABAA==",
          "dtype": "i1"
         },
         "yaxis": "y"
        },
        {
         "marker": {
          "color": "rgb(102,194,165)"
         },
         "name": "Average + Floor Constraint",
         "showlegend": false,
         "type": "bar",
         "x": [
          "anthropic/claude-sonnet-4",
          "deepseek/deepseek-chat-v3-0324",
          "google/gemini-2.5-flash",
          "meta-llama/llama-4-maverick",
          "moonshotai/kimi-k2",
          "openai/gpt-4.1",
          "openai/gpt-4.1-mini",
          "qwen/qwen3-coder",
          "x-ai/grok-4"
         ],
         "xaxis": "x2",
         "y": {
          "bdata": "BwMKAgkBBAIC",
          "dtype": "i1"
         },
         "yaxis": "y2"
        }
       ],
       "layout": {
        "annotations": [
         {
          "font": {
           "size": 16
          },
          "showarrow": false,
          "text": "Initial Preferences by Model Type",
          "x": 0.5,
          "xanchor": "center",
          "xref": "paper",
          "y": 0.9999999999999999,
          "yanchor": "bottom",
          "yref": "paper"
         },
         {
          "font": {
           "size": 16
          },
          "showarrow": false,
          "text": "Final Preferences by Model Type",
          "x": 0.5,
          "xanchor": "center",
          "xref": "paper",
          "y": 0.35,
          "yanchor": "bottom",
          "yref": "paper"
         }
        ],
        "barmode": "group",
        "font": {
         "size": 10
        },
        "height": 800,
        "template": {
         "data": {
          "bar": [
           {
            "error_x": {
             "color": "#2a3f5f"
            },
            "error_y": {
             "color": "#2a3f5f"
            },
            "marker": {
             "line": {
              "color": "#E5ECF6",
              "width": 0.5
             },
             "pattern": {
              "fillmode": "overlay",
              "size": 10,
              "solidity": 0.2
             }
            },
            "type": "bar"
           }
          ],
          "barpolar": [
           {
            "marker": {
             "line": {
              "color": "#E5ECF6",
              "width": 0.5
             },
             "pattern": {
              "fillmode": "overlay",
              "size": 10,
              "solidity": 0.2
             }
            },
            "type": "barpolar"
           }
          ],
          "carpet": [
           {
            "aaxis": {
             "endlinecolor": "#2a3f5f",
             "gridcolor": "white",
             "linecolor": "white",
             "minorgridcolor": "white",
             "startlinecolor": "#2a3f5f"
            },
            "baxis": {
             "endlinecolor": "#2a3f5f",
             "gridcolor": "white",
             "linecolor": "white",
             "minorgridcolor": "white",
             "startlinecolor": "#2a3f5f"
            },
            "type": "carpet"
           }
          ],
          "choropleth": [
           {
            "colorbar": {
             "outlinewidth": 0,
             "ticks": ""
            },
            "type": "choropleth"
           }
          ],
          "contour": [
           {
            "colorbar": {
             "outlinewidth": 0,
             "ticks": ""
            },
            "colorscale": [
             [
              0,
              "#0d0887"
             ],
             [
              0.1111111111111111,
              "#46039f"
             ],
             [
              0.2222222222222222,
              "#7201a8"
             ],
             [
              0.3333333333333333,
              "#9c179e"
             ],
             [
              0.4444444444444444,
              "#bd3786"
             ],
             [
              0.5555555555555556,
              "#d8576b"
             ],
             [
              0.6666666666666666,
              "#ed7953"
             ],
             [
              0.7777777777777778,
              "#fb9f3a"
             ],
             [
              0.8888888888888888,
              "#fdca26"
             ],
             [
              1,
              "#f0f921"
             ]
            ],
            "type": "contour"
           }
          ],
          "contourcarpet": [
           {
            "colorbar": {
             "outlinewidth": 0,
             "ticks": ""
            },
            "type": "contourcarpet"
           }
          ],
          "heatmap": [
           {
            "colorbar": {
             "outlinewidth": 0,
             "ticks": ""
            },
            "colorscale": [
             [
              0,
              "#0d0887"
             ],
             [
              0.1111111111111111,
              "#46039f"
             ],
             [
              0.2222222222222222,
              "#7201a8"
             ],
             [
              0.3333333333333333,
              "#9c179e"
             ],
             [
              0.4444444444444444,
              "#bd3786"
             ],
             [
              0.5555555555555556,
              "#d8576b"
             ],
             [
              0.6666666666666666,
              "#ed7953"
             ],
             [
              0.7777777777777778,
              "#fb9f3a"
             ],
             [
              0.8888888888888888,
              "#fdca26"
             ],
             [
              1,
              "#f0f921"
             ]
            ],
            "type": "heatmap"
           }
          ],
          "histogram": [
           {
            "marker": {
             "pattern": {
              "fillmode": "overlay",
              "size": 10,
              "solidity": 0.2
             }
            },
            "type": "histogram"
           }
          ],
          "histogram2d": [
           {
            "colorbar": {
             "outlinewidth": 0,
             "ticks": ""
            },
            "colorscale": [
             [
              0,
              "#0d0887"
             ],
             [
              0.1111111111111111,
              "#46039f"
             ],
             [
              0.2222222222222222,
              "#7201a8"
             ],
             [
              0.3333333333333333,
              "#9c179e"
             ],
             [
              0.4444444444444444,
              "#bd3786"
             ],
             [
              0.5555555555555556,
              "#d8576b"
             ],
             [
              0.6666666666666666,
              "#ed7953"
             ],
             [
              0.7777777777777778,
              "#fb9f3a"
             ],
             [
              0.8888888888888888,
              "#fdca26"
             ],
             [
              1,
              "#f0f921"
             ]
            ],
            "type": "histogram2d"
           }
          ],
          "histogram2dcontour": [
           {
            "colorbar": {
             "outlinewidth": 0,
             "ticks": ""
            },
            "colorscale": [
             [
              0,
              "#0d0887"
             ],
             [
              0.1111111111111111,
              "#46039f"
             ],
             [
              0.2222222222222222,
              "#7201a8"
             ],
             [
              0.3333333333333333,
              "#9c179e"
             ],
             [
              0.4444444444444444,
              "#bd3786"
             ],
             [
              0.5555555555555556,
              "#d8576b"
             ],
             [
              0.6666666666666666,
              "#ed7953"
             ],
             [
              0.7777777777777778,
              "#fb9f3a"
             ],
             [
              0.8888888888888888,
              "#fdca26"
             ],
             [
              1,
              "#f0f921"
             ]
            ],
            "type": "histogram2dcontour"
           }
          ],
          "mesh3d": [
           {
            "colorbar": {
             "outlinewidth": 0,
             "ticks": ""
            },
            "type": "mesh3d"
           }
          ],
          "parcoords": [
           {
            "line": {
             "colorbar": {
              "outlinewidth": 0,
              "ticks": ""
             }
            },
            "type": "parcoords"
           }
          ],
          "pie": [
           {
            "automargin": true,
            "type": "pie"
           }
          ],
          "scatter": [
           {
            "fillpattern": {
             "fillmode": "overlay",
             "size": 10,
             "solidity": 0.2
            },
            "type": "scatter"
           }
          ],
          "scatter3d": [
           {
            "line": {
             "colorbar": {
              "outlinewidth": 0,
              "ticks": ""
             }
            },
            "marker": {
             "colorbar": {
              "outlinewidth": 0,
              "ticks": ""
             }
            },
            "type": "scatter3d"
           }
          ],
          "scattercarpet": [
           {
            "marker": {
             "colorbar": {
              "outlinewidth": 0,
              "ticks": ""
             }
            },
            "type": "scattercarpet"
           }
          ],
          "scattergeo": [
           {
            "marker": {
             "colorbar": {
              "outlinewidth": 0,
              "ticks": ""
             }
            },
            "type": "scattergeo"
           }
          ],
          "scattergl": [
           {
            "marker": {
             "colorbar": {
              "outlinewidth": 0,
              "ticks": ""
             }
            },
            "type": "scattergl"
           }
          ],
          "scattermap": [
           {
            "marker": {
             "colorbar": {
              "outlinewidth": 0,
              "ticks": ""
             }
            },
            "type": "scattermap"
           }
          ],
          "scattermapbox": [
           {
            "marker": {
             "colorbar": {
              "outlinewidth": 0,
              "ticks": ""
             }
            },
            "type": "scattermapbox"
           }
          ],
          "scatterpolar": [
           {
            "marker": {
             "colorbar": {
              "outlinewidth": 0,
              "ticks": ""
             }
            },
            "type": "scatterpolar"
           }
          ],
          "scatterpolargl": [
           {
            "marker": {
             "colorbar": {
              "outlinewidth": 0,
              "ticks": ""
             }
            },
            "type": "scatterpolargl"
           }
          ],
          "scatterternary": [
           {
            "marker": {
             "colorbar": {
              "outlinewidth": 0,
              "ticks": ""
             }
            },
            "type": "scatterternary"
           }
          ],
          "surface": [
           {
            "colorbar": {
             "outlinewidth": 0,
             "ticks": ""
            },
            "colorscale": [
             [
              0,
              "#0d0887"
             ],
             [
              0.1111111111111111,
              "#46039f"
             ],
             [
              0.2222222222222222,
              "#7201a8"
             ],
             [
              0.3333333333333333,
              "#9c179e"
             ],
             [
              0.4444444444444444,
              "#bd3786"
             ],
             [
              0.5555555555555556,
              "#d8576b"
             ],
             [
              0.6666666666666666,
              "#ed7953"
             ],
             [
              0.7777777777777778,
              "#fb9f3a"
             ],
             [
              0.8888888888888888,
              "#fdca26"
             ],
             [
              1,
              "#f0f921"
             ]
            ],
            "type": "surface"
           }
          ],
          "table": [
           {
            "cells": {
             "fill": {
              "color": "#EBF0F8"
             },
             "line": {
              "color": "white"
             }
            },
            "header": {
             "fill": {
              "color": "#C8D4E3"
             },
             "line": {
              "color": "white"
             }
            },
            "type": "table"
           }
          ]
         },
         "layout": {
          "annotationdefaults": {
           "arrowcolor": "#2a3f5f",
           "arrowhead": 0,
           "arrowwidth": 1
          },
          "autotypenumbers": "strict",
          "coloraxis": {
           "colorbar": {
            "outlinewidth": 0,
            "ticks": ""
           }
          },
          "colorscale": {
           "diverging": [
            [
             0,
             "#8e0152"
            ],
            [
             0.1,
             "#c51b7d"
            ],
            [
             0.2,
             "#de77ae"
            ],
            [
             0.3,
             "#f1b6da"
            ],
            [
             0.4,
             "#fde0ef"
            ],
            [
             0.5,
             "#f7f7f7"
            ],
            [
             0.6,
             "#e6f5d0"
            ],
            [
             0.7,
             "#b8e186"
            ],
            [
             0.8,
             "#7fbc41"
            ],
            [
             0.9,
             "#4d9221"
            ],
            [
             1,
             "#276419"
            ]
           ],
           "sequential": [
            [
             0,
             "#0d0887"
            ],
            [
             0.1111111111111111,
             "#46039f"
            ],
            [
             0.2222222222222222,
             "#7201a8"
            ],
            [
             0.3333333333333333,
             "#9c179e"
            ],
            [
             0.4444444444444444,
             "#bd3786"
            ],
            [
             0.5555555555555556,
             "#d8576b"
            ],
            [
             0.6666666666666666,
             "#ed7953"
            ],
            [
             0.7777777777777778,
             "#fb9f3a"
            ],
            [
             0.8888888888888888,
             "#fdca26"
            ],
            [
             1,
             "#f0f921"
            ]
           ],
           "sequentialminus": [
            [
             0,
             "#0d0887"
            ],
            [
             0.1111111111111111,
             "#46039f"
            ],
            [
             0.2222222222222222,
             "#7201a8"
            ],
            [
             0.3333333333333333,
             "#9c179e"
            ],
            [
             0.4444444444444444,
             "#bd3786"
            ],
            [
             0.5555555555555556,
             "#d8576b"
            ],
            [
             0.6666666666666666,
             "#ed7953"
            ],
            [
             0.7777777777777778,
             "#fb9f3a"
            ],
            [
             0.8888888888888888,
             "#fdca26"
            ],
            [
             1,
             "#f0f921"
            ]
           ]
          },
          "colorway": [
           "#636efa",
           "#EF553B",
           "#00cc96",
           "#ab63fa",
           "#FFA15A",
           "#19d3f3",
           "#FF6692",
           "#B6E880",
           "#FF97FF",
           "#FECB52"
          ],
          "font": {
           "color": "#2a3f5f"
          },
          "geo": {
           "bgcolor": "white",
           "lakecolor": "white",
           "landcolor": "#E5ECF6",
           "showlakes": true,
           "showland": true,
           "subunitcolor": "white"
          },
          "hoverlabel": {
           "align": "left"
          },
          "hovermode": "closest",
          "mapbox": {
           "style": "light"
          },
          "paper_bgcolor": "white",
          "plot_bgcolor": "#E5ECF6",
          "polar": {
           "angularaxis": {
            "gridcolor": "white",
            "linecolor": "white",
            "ticks": ""
           },
           "bgcolor": "#E5ECF6",
           "radialaxis": {
            "gridcolor": "white",
            "linecolor": "white",
            "ticks": ""
           }
          },
          "scene": {
           "xaxis": {
            "backgroundcolor": "#E5ECF6",
            "gridcolor": "white",
            "gridwidth": 2,
            "linecolor": "white",
            "showbackground": true,
            "ticks": "",
            "zerolinecolor": "white"
           },
           "yaxis": {
            "backgroundcolor": "#E5ECF6",
            "gridcolor": "white",
            "gridwidth": 2,
            "linecolor": "white",
            "showbackground": true,
            "ticks": "",
            "zerolinecolor": "white"
           },
           "zaxis": {
            "backgroundcolor": "#E5ECF6",
            "gridcolor": "white",
            "gridwidth": 2,
            "linecolor": "white",
            "showbackground": true,
            "ticks": "",
            "zerolinecolor": "white"
           }
          },
          "shapedefaults": {
           "line": {
            "color": "#2a3f5f"
           }
          },
          "ternary": {
           "aaxis": {
            "gridcolor": "white",
            "linecolor": "white",
            "ticks": ""
           },
           "baxis": {
            "gridcolor": "white",
            "linecolor": "white",
            "ticks": ""
           },
           "bgcolor": "#E5ECF6",
           "caxis": {
            "gridcolor": "white",
            "linecolor": "white",
            "ticks": ""
           }
          },
          "title": {
           "x": 0.05
          },
          "xaxis": {
           "automargin": true,
           "gridcolor": "white",
           "linecolor": "white",
           "ticks": "",
           "title": {
            "standoff": 15
           },
           "zerolinecolor": "white",
           "zerolinewidth": 2
          },
          "yaxis": {
           "automargin": true,
           "gridcolor": "white",
           "linecolor": "white",
           "ticks": "",
           "title": {
            "standoff": 15
           },
           "zerolinecolor": "white",
           "zerolinewidth": 2
          }
         }
        },
        "title": {
         "text": "Principle Preferences by Model Type"
        },
        "xaxis": {
         "anchor": "y",
         "domain": [
          0,
          1
         ],
         "title": {
          "text": "Model Type"
         }
        },
        "xaxis2": {
         "anchor": "y2",
         "domain": [
          0,
          1
         ],
         "title": {
          "text": "Model Type"
         }
        },
        "yaxis": {
         "anchor": "x",
         "domain": [
          0.6499999999999999,
          0.9999999999999999
         ],
         "title": {
          "text": "Number of Agents"
         }
        },
        "yaxis2": {
         "anchor": "x2",
         "domain": [
          0,
          0.35
         ],
         "title": {
          "text": "Number of Agents"
         }
        }
       }
      }
     },
     "metadata": {},
     "output_type": "display_data"
    },
    {
     "name": "stdout",
     "output_type": "stream",
     "text": [
      "\n",
      "=== Initial Preferences by Model ===\n",
      "Initial_Display                 Average + Floor Constraint  Floor Income\n",
      "Model own                                                               \n",
      "anthropic/claude-sonnet-4                                9             0\n",
      "deepseek/deepseek-chat-v3-0324                           3             0\n",
      "google/gemini-2.5-flash                                 11             0\n",
      "google/gemini-2.5-pro                                    1             0\n",
      "meta-llama/llama-4-maverick                              5             0\n",
      "moonshotai/kimi-k2                                      11             0\n",
      "openai/gpt-4.1                                           1             0\n",
      "openai/gpt-4.1-mini                                      4             0\n",
      "qwen/qwen3-coder                                         1             1\n",
      "x-ai/grok-4                                              3             0\n",
      "\n",
      "=== Final Preferences by Model ===\n",
      "Final_Display                   Average + Floor Constraint\n",
      "Model own                                                 \n",
      "anthropic/claude-sonnet-4                                7\n",
      "deepseek/deepseek-chat-v3-0324                           3\n",
      "google/gemini-2.5-flash                                 10\n",
      "meta-llama/llama-4-maverick                              2\n",
      "moonshotai/kimi-k2                                       9\n",
      "openai/gpt-4.1                                           1\n",
      "openai/gpt-4.1-mini                                      4\n",
      "qwen/qwen3-coder                                         2\n",
      "x-ai/grok-4                                              2\n"
     ]
    }
   ],
   "source": [
    "def create_model_preference_analysis(df):\n",
    "    \"\"\"\n",
    "    Create bar chart showing initial and final principle preferences by model type\n",
    "    \"\"\"\n",
    "    # Clean data\n",
    "    df_clean = df.dropna(subset=['Initial Preference Name', 'Final Preference Name'])\n",
    "    \n",
    "    # Principle name mapping for display\n",
    "    principle_names = {\n",
    "        'maximizing_floor': 'Floor Income',\n",
    "        'maximizing_average': 'Average Income', \n",
    "        'maximizing_average_floor_constraint': 'Average + Floor Constraint',\n",
    "        'maximizing_average_range_constraint': 'Average + Range Constraint'\n",
    "    }\n",
    "    \n",
    "    # Map principle names\n",
    "    df_clean['Initial_Display'] = df_clean['Initial Preference Name'].map(principle_names)\n",
    "    df_clean['Final_Display'] = df_clean['Final Preference Name'].map(principle_names)\n",
    "    \n",
    "    # Create analysis for initial preferences\n",
    "    initial_by_model = df_clean.groupby(['Model own', 'Initial_Display']).size().unstack(fill_value=0)\n",
    "    \n",
    "    # Create analysis for final preferences  \n",
    "    final_by_model = df_clean.groupby(['Model own', 'Final_Display']).size().unstack(fill_value=0)\n",
    "    \n",
    "    # Create subplots\n",
    "    fig = make_subplots(\n",
    "        rows=2, cols=1,\n",
    "        subplot_titles=('Initial Preferences by Model Type', 'Final Preferences by Model Type'),\n",
    "        vertical_spacing=0.3\n",
    "        \n",
    "    )\n",
    "    \n",
    "    colors = px.colors.qualitative.Set2\n",
    "    \n",
    "    # Add initial preferences bars\n",
    "    for i, principle in enumerate(initial_by_model.columns):\n",
    "        fig.add_trace(\n",
    "            go.Bar(\n",
    "                name=principle,\n",
    "                x=initial_by_model.index,\n",
    "                y=initial_by_model[principle],\n",
    "                marker_color=colors[i % len(colors)],\n",
    "                showlegend=True if i < len(initial_by_model.columns) else False\n",
    "            ),\n",
    "            row=1, col=1\n",
    "        )\n",
    "    \n",
    "    # Add final preferences bars\n",
    "    for i, principle in enumerate(final_by_model.columns):\n",
    "        fig.add_trace(\n",
    "            go.Bar(\n",
    "                name=principle,\n",
    "                x=final_by_model.index,\n",
    "                y=final_by_model[principle],\n",
    "                marker_color=colors[i % len(colors)],\n",
    "                showlegend=False\n",
    "            ),\n",
    "            row=2, col=1\n",
    "        )\n",
    "    \n",
    "    fig.update_layout(\n",
    "        height=800,\n",
    "        title_text=\"Principle Preferences by Model Type\",\n",
    "        barmode='group',\n",
    "        font_size=10\n",
    "    )\n",
    "    \n",
    "    fig.update_xaxes(title_text=\"Model Type\", row=1, col=1)\n",
    "    fig.update_xaxes(title_text=\"Model Type\", row=2, col=1)\n",
    "    fig.update_yaxes(title_text=\"Number of Agents\", row=1, col=1)\n",
    "    fig.update_yaxes(title_text=\"Number of Agents\", row=2, col=1)\n",
    "    \n",
    "    return fig, initial_by_model, final_by_model\n",
    "\n",
    "model_analysis_fig, initial_stats, final_stats = create_model_preference_analysis(df)\n",
    "model_analysis_fig.show()\n",
    "\n",
    "print(\"\\n=== Initial Preferences by Model ===\")\n",
    "print(initial_stats)\n",
    "\n",
    "print(\"\\n=== Final Preferences by Model ===\")\n",
    "print(final_stats)"
   ]
  },
  {
   "cell_type": "markdown",
   "metadata": {},
   "source": [
    "## Summary Statistics"
   ]
  },
  {
   "cell_type": "code",
   "execution_count": 8,
   "metadata": {},
   "outputs": [
    {
     "name": "stdout",
     "output_type": "stream",
     "text": [
      "=== EXPERIMENT SUMMARY ===\n",
      "Total experiments analyzed: 10\n",
      "Total agent instances: 50\n",
      "Average agents per experiment: 5.0\n",
      "\n",
      "=== MODEL DISTRIBUTION ===\n",
      "moonshotai/kimi-k2: 11 agents (22.0%)\n",
      "google/gemini-2.5-flash: 11 agents (22.0%)\n",
      "anthropic/claude-sonnet-4: 9 agents (18.0%)\n",
      "meta-llama/llama-4-maverick: 5 agents (10.0%)\n",
      "openai/gpt-4.1-mini: 4 agents (8.0%)\n",
      "deepseek/deepseek-chat-v3-0324: 3 agents (6.0%)\n",
      "x-ai/grok-4: 3 agents (6.0%)\n",
      "qwen/qwen3-coder: 2 agents (4.0%)\n",
      "google/gemini-2.5-pro: 1 agents (2.0%)\n",
      "openai/gpt-4.1: 1 agents (2.0%)\n",
      "\n",
      "=== PREFERENCE STABILITY ===\n",
      "Agents who kept same preference: 39/50 (78.0%)\n",
      "Agents who changed preference: 11/50 (22.0%)\n",
      "\n",
      "=== PRINCIPLE POPULARITY ===\n",
      "Initial preferences:\n",
      "  maximizing_average_floor_constraint: 49 (98.0%)\n",
      "  maximizing_floor: 1 (2.0%)\n",
      "\n",
      "Final preferences:\n",
      "  maximizing_average_floor_constraint: 40 (80.0%)\n",
      "  No vote: 10 (20.0%)\n"
     ]
    }
   ],
   "source": [
    "def generate_summary_stats(df):\n",
    "    \"\"\"\n",
    "    Generate comprehensive summary statistics\n",
    "    \"\"\"\n",
    "    print(\"=== EXPERIMENT SUMMARY ===\")\n",
    "    print(f\"Total experiments analyzed: {df['File'].nunique()}\")\n",
    "    print(f\"Total agent instances: {len(df)}\")\n",
    "    print(f\"Average agents per experiment: {len(df) / df['File'].nunique():.1f}\")\n",
    "    \n",
    "    print(\"\\n=== MODEL DISTRIBUTION ===\")\n",
    "    model_counts = df['Model own'].value_counts()\n",
    "    for model, count in model_counts.items():\n",
    "        percentage = count / len(df) * 100\n",
    "        print(f\"{model}: {count} agents ({percentage:.1f}%)\")\n",
    "    \n",
    "    print(\"\\n=== PREFERENCE STABILITY ===\")\n",
    "    df_clean = df.dropna(subset=['Initial Preference Name', 'Final Preference Name'])\n",
    "    stable_prefs = (df_clean['Initial Preference Name'] == df_clean['Final Preference Name']).sum()\n",
    "    print(f\"Agents who kept same preference: {stable_prefs}/{len(df_clean)} ({stable_prefs/len(df_clean)*100:.1f}%)\")\n",
    "    print(f\"Agents who changed preference: {len(df_clean) - stable_prefs}/{len(df_clean)} ({(len(df_clean) - stable_prefs)/len(df_clean)*100:.1f}%)\")\n",
    "    \n",
    "    print(\"\\n=== PRINCIPLE POPULARITY ===\")\n",
    "    print(\"Initial preferences:\")\n",
    "    initial_counts = df_clean['Initial Preference Name'].value_counts()\n",
    "    for principle, count in initial_counts.items():\n",
    "        percentage = count / len(df_clean) * 100\n",
    "        print(f\"  {principle}: {count} ({percentage:.1f}%)\")\n",
    "        \n",
    "    print(\"\\nFinal preferences:\")\n",
    "    final_counts = df_clean['Final Preference Name'].value_counts()\n",
    "    for principle, count in final_counts.items():\n",
    "        percentage = count / len(df_clean) * 100\n",
    "        print(f\"  {principle}: {count} ({percentage:.1f}%)\")\n",
    "\n",
    "generate_summary_stats(df)"
   ]
  },
  {
   "cell_type": "markdown",
   "metadata": {},
   "source": [
    "## Export Results"
   ]
  },
  {
   "cell_type": "code",
   "execution_count": 9,
   "metadata": {},
   "outputs": [
    {
     "name": "stdout",
     "output_type": "stream",
     "text": [
      "Data exported to experiment_analysis.csv\n",
      "\n",
      "=== Final DataFrame Preview ===\n",
      "  Agent Name                       Model own  \\\n",
      "0    Agent_1       anthropic/claude-sonnet-4   \n",
      "1    Agent_2       anthropic/claude-sonnet-4   \n",
      "2    Agent_3              moonshotai/kimi-k2   \n",
      "3    Agent_4       anthropic/claude-sonnet-4   \n",
      "4    Agent_5     meta-llama/llama-4-maverick   \n",
      "5    Agent_1             openai/gpt-4.1-mini   \n",
      "6    Agent_2              moonshotai/kimi-k2   \n",
      "7    Agent_3  deepseek/deepseek-chat-v3-0324   \n",
      "8    Agent_4         google/gemini-2.5-flash   \n",
      "9    Agent_5         google/gemini-2.5-flash   \n",
      "\n",
      "               Initial Preference Name                Final Preference Name  \\\n",
      "0  maximizing_average_floor_constraint  maximizing_average_floor_constraint   \n",
      "1  maximizing_average_floor_constraint  maximizing_average_floor_constraint   \n",
      "2  maximizing_average_floor_constraint  maximizing_average_floor_constraint   \n",
      "3  maximizing_average_floor_constraint  maximizing_average_floor_constraint   \n",
      "4  maximizing_average_floor_constraint  maximizing_average_floor_constraint   \n",
      "5  maximizing_average_floor_constraint  maximizing_average_floor_constraint   \n",
      "6  maximizing_average_floor_constraint  maximizing_average_floor_constraint   \n",
      "7  maximizing_average_floor_constraint  maximizing_average_floor_constraint   \n",
      "8  maximizing_average_floor_constraint  maximizing_average_floor_constraint   \n",
      "9  maximizing_average_floor_constraint  maximizing_average_floor_constraint   \n",
      "\n",
      "  Agreement?                Agreed Principle Name  \n",
      "0        Yes  maximizing_average_floor_constraint  \n",
      "1        Yes  maximizing_average_floor_constraint  \n",
      "2        Yes  maximizing_average_floor_constraint  \n",
      "3        Yes  maximizing_average_floor_constraint  \n",
      "4        Yes  maximizing_average_floor_constraint  \n",
      "5        Yes  maximizing_average_floor_constraint  \n",
      "6        Yes  maximizing_average_floor_constraint  \n",
      "7        Yes  maximizing_average_floor_constraint  \n",
      "8        Yes  maximizing_average_floor_constraint  \n",
      "9        Yes  maximizing_average_floor_constraint  \n"
     ]
    }
   ],
   "source": [
    "# Save the dataframe to CSV for further analysis\n",
    "output_file = 'experiment_analysis.csv'\n",
    "df.to_csv(output_file, index=False)\n",
    "print(f\"Data exported to {output_file}\")\n",
    "\n",
    "# Display first few rows of the final dataframe\n",
    "print(\"\\n=== Final DataFrame Preview ===\")\n",
    "print(df[['Agent Name', 'Model own', 'Initial Preference Name', 'Final Preference Name', 'Agreement?', 'Agreed Principle Name']].head(10))"
   ]
  }
 ],
 "metadata": {
  "kernelspec": {
   "display_name": ".venv",
   "language": "python",
   "name": "python3"
  },
  "language_info": {
   "codemirror_mode": {
    "name": "ipython",
    "version": 3
   },
   "file_extension": ".py",
   "mimetype": "text/x-python",
   "name": "python",
   "nbconvert_exporter": "python",
   "pygments_lexer": "ipython3",
   "version": "3.11.6"
  }
 },
 "nbformat": 4,
 "nbformat_minor": 4
}
