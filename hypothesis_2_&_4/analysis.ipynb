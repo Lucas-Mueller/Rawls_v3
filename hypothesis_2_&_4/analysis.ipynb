{
 "cells": [
  {
   "cell_type": "markdown",
   "metadata": {},
   "source": [
    "# Experiment Results Analysis\n",
    "\n",
    "This notebook extracts experiment data into the exact DataFrame format requested."
   ]
  },
  {
   "cell_type": "code",
   "execution_count": 1,
   "metadata": {},
   "outputs": [],
   "source": [
    "import json\n",
    "import pandas as pd\n",
    "from typing import Dict, List, Any"
   ]
  },
  {
   "cell_type": "code",
   "execution_count": 2,
   "metadata": {},
   "outputs": [],
   "source": [
    "def load_experiment_results(file_path: str) -> Dict[str, Any]:\n",
    "    \"\"\"Load experiment results from JSON file.\"\"\"\n",
    "    with open(file_path, 'r', encoding='utf-8') as f:\n",
    "        return json.load(f)\n",
    "\n",
    "def extract_experiment_dataframe(results: Dict[str, Any]) -> pd.DataFrame:\n",
    "    \"\"\"\n",
    "    Extract experiment data into a DataFrame with the exact columns requested.\n",
    "    \n",
    "    Args:\n",
    "        results: Experiment results dictionary\n",
    "        \n",
    "    Returns:\n",
    "        DataFrame with columns: Rounds, #Agents, Prompt, Model own, Model other agents, \n",
    "        Temperature self, Initial Preference, Agreement?, Agreed Principle\n",
    "    \"\"\"\n",
    "    \n",
    "    # Extract basic experiment info\n",
    "    general_info = results.get('general_information', {})\n",
    "    agents = results.get('agents', [])\n",
    "    \n",
    "    # Get experiment configuration\n",
    "    rounds = general_info.get('phase2_rounds', 20)  # Default if not found\n",
    "    num_agents = len(agents)\n",
    "    \n",
    "    # Extract consensus information\n",
    "    consensus_reached = general_info.get('consensus_reached', False)\n",
    "    consensus_principle = general_info.get('consensus_principle', None)\n",
    "    \n",
    "    # Map principle codes to numbers (based on your example showing \"3\")\n",
    "    principle_to_number = {\n",
    "        'maximizing_floor': 1,\n",
    "        'maximizing_average': 2, \n",
    "        'maximizing_average_with_floor': 3,\n",
    "        'maximizing_average_with_range': 4\n",
    "    }\n",
    "    \n",
    "    agreed_principle_num = principle_to_number.get(consensus_principle, None) if consensus_principle else None\n",
    "    \n",
    "    # Create rows for each agent\n",
    "    rows = []\n",
    "    for agent in agents:\n",
    "        # Get agent's model\n",
    "        agent_model = agent.get('model', 'Unknown')\n",
    "        \n",
    "        # Get other agents' models (excluding current agent)\n",
    "        other_models = [a.get('model', 'Unknown') for a in agents if a.get('name') != agent.get('name')]\n",
    "        \n",
    "        # Get agent's initial preference (first choice)\n",
    "        initial_preference = None\n",
    "        if 'phase_1' in agent and 'initial_ranking' in agent['phase_1']:\n",
    "            ranking_data = agent['phase_1']['initial_ranking'].get('ranking_result', {})\n",
    "            rankings = ranking_data.get('rankings', [])\n",
    "            \n",
    "            # Find rank 1 (first choice)\n",
    "            for ranking in rankings:\n",
    "                if ranking.get('rank') == 1:\n",
    "                    principle = ranking.get('principle', '')\n",
    "                    initial_preference = principle_to_number.get(principle, None)\n",
    "                    break\n",
    "        \n",
    "        row = {\n",
    "            'Rounds': rounds,\n",
    "            '#Agents': num_agents,\n",
    "            'Prompt': agent.get('personality', ''),\n",
    "            'Model own': agent_model,\n",
    "            'Model other agents': other_models,\n",
    "            'Temperature self': agent.get('temperature', 0),\n",
    "            'Initial Preference': initial_preference,\n",
    "            'Agreement?': 1 if consensus_reached else 0,  # 1 for Yes, 0 for No\n",
    "            'Agreed Principle': agreed_principle_num\n",
    "        }\n",
    "        rows.append(row)\n",
    "    \n",
    "    return pd.DataFrame(rows)"
   ]
  },
  {
   "cell_type": "markdown",
   "metadata": {},
   "source": "## Load Multiple JSON Files and Create Sankey Chart\n\nThis section loads all JSON experiment files from predefined folders, combines them, and creates a Sankey chart."
  },
  {
   "cell_type": "code",
   "execution_count": null,
   "metadata": {},
   "outputs": [],
   "source": "import glob\nimport os\nimport plotly.graph_objects as go\n\n# Define predefined folders to search for JSON files\nPREDEFINED_FOLDERS = [\n    \"/Users/lucasmuller/Desktop/Githubg/Rawls_v3/\",\n    \"/Users/lucasmuller/Desktop/Githubg/Rawls_v3/hypothesis_2_&_4/\",\n    \"/Users/lucasmuller/Desktop/Githubg/Rawls_v3/hypothesis_2_&_4/logs/\"\n]\n\ndef load_multiple_experiments(folders: List[str] = PREDEFINED_FOLDERS) -> pd.DataFrame:\n    \"\"\"\n    Load multiple experiment JSON files from predefined folders and combine them.\n    \n    Args:\n        folders: List of folder paths to search for JSON files\n        \n    Returns:\n        Combined DataFrame with all experiment data\n    \"\"\"\n    \n    all_files = []\n    \n    # Search for JSON files in all predefined folders\n    for folder in folders:\n        if os.path.exists(folder):\n            # Look for experiment result files and config result files\n            patterns = [\n                os.path.join(folder, \"experiment_results_*.json\"),\n                os.path.join(folder, \"*_results_*.json\"),\n                os.path.join(folder, \"config_*_results_*.json\")\n            ]\n            \n            for pattern in patterns:\n                files = glob.glob(pattern)\n                all_files.extend(files)\n    \n    # Remove duplicates\n    all_files = list(set(all_files))\n    \n    if not all_files:\n        print(\"No JSON experiment files found in predefined folders:\")\n        for folder in folders:\n            print(f\"  - {folder}\")\n        return pd.DataFrame()\n    \n    print(f\"Found {len(all_files)} JSON experiment files:\")\n    \n    # Load and combine all experiments\n    all_dfs = []\n    for file_path in all_files:\n        try:\n            results = load_experiment_results(file_path)\n            df_single = extract_experiment_dataframe(results)\n            df_single['Experiment_File'] = os.path.basename(file_path)\n            all_dfs.append(df_single)\n            print(f\"✓ Loaded {os.path.basename(file_path)} ({len(df_single)} agents)\")\n        except Exception as e:\n            print(f\"✗ Error loading {os.path.basename(file_path)}: {e}\")\n    \n    if not all_dfs:\n        print(\"No valid experiment files could be loaded\")\n        return pd.DataFrame()\n    \n    # Combine all DataFrames\n    combined_df = pd.concat(all_dfs, ignore_index=True)\n    print(f\"\\n✅ Combined {len(combined_df)} total agent observations from {len(all_dfs)} experiments\")\n    \n    return combined_df\n\ndef create_sankey_chart(df: pd.DataFrame, title: str = \"Flow from Initial to Agreed Principle\"):\n    \"\"\"\n    Create a Sankey chart showing flow from Initial Preference to Agreed Principle.\n    \n    Args:\n        df: DataFrame with Initial Preference and Agreement/Agreed Principle columns\n        title: Chart title\n    \"\"\"\n    \n    if df.empty:\n        print(\"Cannot create Sankey chart: DataFrame is empty\")\n        return None\n    \n    # Map principle numbers to names\n    principle_names = {\n        1: \"Maximizing Floor\",\n        2: \"Maximizing Average\", \n        3: \"Maximizing Average with Floor\",\n        4: \"Maximizing Average with Range\"\n    }\n    \n    # Create source and target labels\n    source_labels = []\n    target_labels = []\n    values = []\n    \n    # Group by Initial Preference and outcome\n    for _, row in df.iterrows():\n        initial = row['Initial Preference']\n        agreement = row['Agreement?']\n        agreed = row['Agreed Principle']\n        \n        # Source: Initial Preference\n        initial_name = principle_names.get(initial, f\"Unknown ({initial})\")\n        source_name = f\"Initial: {initial_name}\"\n        \n        # Target: Either agreed principle or \"No Agreement\"\n        if agreement == 1 and agreed is not None:\n            target_name = f\"Agreed: {principle_names.get(agreed, f'Unknown ({agreed})')}\"\n        else:\n            target_name = \"No Agreement\"\n        \n        source_labels.append(source_name)\n        target_labels.append(target_name)\n        values.append(1)  # Each agent contributes 1 to the flow\n    \n    # Create unique labels and map to indices\n    all_labels = list(set(source_labels + target_labels))\n    label_to_index = {label: i for i, label in enumerate(all_labels)}\n    \n    # Convert to indices and aggregate flows\n    flows = {}\n    for source, target, value in zip(source_labels, target_labels, values):\n        source_idx = label_to_index[source]\n        target_idx = label_to_index[target]\n        key = (source_idx, target_idx)\n        flows[key] = flows.get(key, 0) + value\n    \n    # Extract final data\n    source_indices = []\n    target_indices = []\n    flow_values = []\n    \n    for (source_idx, target_idx), value in flows.items():\n        source_indices.append(source_idx)\n        target_indices.append(target_idx)\n        flow_values.append(value)\n    \n    # Create colors\n    colors = []\n    for label in all_labels:\n        if \"Initial:\" in label:\n            colors.append(\"rgba(31, 119, 180, 0.8)\")  # Blue for initial\n        elif \"No Agreement\" in label:\n            colors.append(\"rgba(214, 39, 40, 0.8)\")   # Red for no agreement\n        else:\n            colors.append(\"rgba(44, 160, 44, 0.8)\")   # Green for agreed\n    \n    # Create Sankey diagram\n    fig = go.Figure(data=[go.Sankey(\n        node=dict(\n            pad=15,\n            thickness=20,\n            line=dict(color=\"black\", width=0.5),\n            label=all_labels,\n            color=colors\n        ),\n        link=dict(\n            source=source_indices,\n            target=target_indices,\n            value=flow_values,\n            color=\"rgba(128, 128, 128, 0.4)\"\n        )\n    )])\n    \n    fig.update_layout(\n        title_text=title,\n        font_size=12,\n        height=600,\n        width=1000\n    )\n    \n    return fig\n\n# Load all experiments from predefined folders and create Sankey chart\ncombined_df = load_multiple_experiments()\n\nif not combined_df.empty:\n    # Display summary statistics\n    print(\"\\n=== Summary Statistics ===\")\n    print(f\"Total Agents: {len(combined_df)}\")\n    print(f\"Agents with Agreement: {combined_df['Agreement?'].sum()}\")\n    print(f\"Agents without Agreement: {len(combined_df) - combined_df['Agreement?'].sum()}\")\n    print(f\"Agreement Rate: {(combined_df['Agreement?'].sum() / len(combined_df) * 100):.1f}%\")\n    \n    print(\"\\nInitial Preference Distribution:\")\n    initial_counts = combined_df['Initial Preference'].value_counts().sort_index()\n    principle_names = {1: \"Maximizing Floor\", 2: \"Maximizing Average\", \n                      3: \"Maximizing Average with Floor\", 4: \"Maximizing Average with Range\"}\n    for principle, count in initial_counts.items():\n        print(f\"  {principle_names.get(principle, f'Unknown ({principle})')}: {count}\")\n    \n    print(\"\\nExperiment Files:\")\n    file_counts = combined_df['Experiment_File'].value_counts()\n    for file, count in file_counts.items():\n        print(f\"  {file}: {count} agents\")\n    \n    # Create and display Sankey chart\n    sankey_fig = create_sankey_chart(\n        combined_df, \n        title=f\"Flow from Initial to Agreed Principle ({len(file_counts)} Experiments, {len(combined_df)} Agents)\"\n    )\n    \n    if sankey_fig:\n        sankey_fig.show()\n        print(\"\\n✅ Sankey chart created successfully!\")\n    else:\n        print(\"❌ Failed to create Sankey chart\")\n        \n    # Display the combined DataFrame\n    print(f\"\\nCombined DataFrame ({len(combined_df)} rows):\")\n    display(combined_df.head(10))\nelse:\n    print(\"❌ No experiment data loaded - cannot create Sankey chart\")"
  },
  {
   "cell_type": "code",
   "execution_count": 6,
   "metadata": {},
   "outputs": [
    {
     "name": "stdout",
     "output_type": "stream",
     "text": [
      "Found 2 experiment files\n",
      "✓ Loaded /Users/lucasmuller/Desktop/Githubg/Rawls_v3/experiment_results_20250810_190409.json\n",
      "✓ Loaded /Users/lucasmuller/Desktop/Githubg/Rawls_v3/experiment_results_20250810_223209.json\n",
      "\n",
      "Combined data: 6 total agent observations from 2 experiments\n",
      "Batch analysis error: name 'create_sankey_chart' is not defined\n",
      "This is normal if you don't have multiple experiment files yet.\n"
     ]
    }
   ],
   "source": [
    "import glob\n",
    "import os\n",
    "\n",
    "def analyze_multiple_experiments(results_pattern: str = \"/Users/lucasmuller/Desktop/Githubg/Rawls_v3/experiment_results_*.json\"):\n",
    "    \"\"\"\n",
    "    Analyze multiple experiment files and create combined Sankey chart.\n",
    "    \n",
    "    Args:\n",
    "        results_pattern: Glob pattern to match experiment result files\n",
    "    \"\"\"\n",
    "    \n",
    "    # Find all matching files\n",
    "    files = glob.glob(results_pattern)\n",
    "    if not files:\n",
    "        print(f\"No files found matching pattern: {results_pattern}\")\n",
    "        return None\n",
    "    \n",
    "    print(f\"Found {len(files)} experiment files\")\n",
    "    \n",
    "    # Combine all experiments into one DataFrame\n",
    "    all_dfs = []\n",
    "    for file_path in files:\n",
    "        try:\n",
    "            results = load_experiment_results(file_path)\n",
    "            df_single = extract_experiment_dataframe(results)\n",
    "            df_single['Experiment_File'] = os.path.basename(file_path)\n",
    "            all_dfs.append(df_single)\n",
    "            print(f\"✓ Loaded {file_path}\")\n",
    "        except Exception as e:\n",
    "            print(f\"✗ Error loading {file_path}: {e}\")\n",
    "    \n",
    "    if not all_dfs:\n",
    "        print(\"No valid experiment files could be loaded\")\n",
    "        return None\n",
    "    \n",
    "    # Combine all DataFrames\n",
    "    combined_df = pd.concat(all_dfs, ignore_index=True)\n",
    "    print(f\"\\nCombined data: {len(combined_df)} total agent observations from {len(all_dfs)} experiments\")\n",
    "    \n",
    "    # Create Sankey chart for combined data\n",
    "    sankey_fig = create_sankey_chart(\n",
    "        combined_df, \n",
    "        title=f\"Flow from Initial to Agreed Principle (Combined Analysis - {len(all_dfs)} Experiments)\"\n",
    "    )\n",
    "    \n",
    "    # Display summary statistics\n",
    "    print(\"\\n=== Summary Statistics ===\")\n",
    "    print(f\"Total Agents: {len(combined_df)}\")\n",
    "    print(f\"Experiments with Agreement: {combined_df['Agreement?'].sum()}\")\n",
    "    print(f\"Experiments without Agreement: {len(combined_df) - combined_df['Agreement?'].sum()}\")\n",
    "    \n",
    "    print(\"\\nInitial Preference Distribution:\")\n",
    "    initial_counts = combined_df['Initial Preference'].value_counts().sort_index()\n",
    "    principle_names = {1: \"Maximizing Floor\", 2: \"Maximizing Average\", \n",
    "                      3: \"Maximizing Average with Floor\", 4: \"Maximizing Average with Range\"}\n",
    "    for principle, count in initial_counts.items():\n",
    "        print(f\"  {principle_names.get(principle, f'Unknown ({principle})')}: {count}\")\n",
    "    \n",
    "    return combined_df, sankey_fig\n",
    "\n",
    "# Run batch analysis if experiment files exist\n",
    "try:\n",
    "    combined_df, batch_sankey = analyze_multiple_experiments()\n",
    "    if batch_sankey:\n",
    "        batch_sankey.show()\n",
    "except Exception as e:\n",
    "    print(f\"Batch analysis error: {e}\")\n",
    "    print(\"This is normal if you don't have multiple experiment files yet.\")"
   ]
  },
  {
   "cell_type": "markdown",
   "metadata": {},
   "source": [
    "### Batch Analysis: Multiple Experiment Files\n",
    "\n",
    "You can also create Sankey charts for multiple experiment files to see patterns across different experimental conditions."
   ]
  },
  {
   "cell_type": "code",
   "execution_count": 7,
   "metadata": {},
   "outputs": [
    {
     "name": "stdout",
     "output_type": "stream",
     "text": [
      "Requirement already satisfied: nbformat in /Users/lucasmuller/Desktop/Githubg/Rawls_v3/.venv/lib/python3.11/site-packages (5.10.4)\n",
      "Requirement already satisfied: fastjsonschema>=2.15 in /Users/lucasmuller/Desktop/Githubg/Rawls_v3/.venv/lib/python3.11/site-packages (from nbformat) (2.21.1)\n",
      "Requirement already satisfied: jsonschema>=2.6 in /Users/lucasmuller/Desktop/Githubg/Rawls_v3/.venv/lib/python3.11/site-packages (from nbformat) (4.25.0)\n",
      "Requirement already satisfied: jupyter-core!=5.0.*,>=4.12 in /Users/lucasmuller/Desktop/Githubg/Rawls_v3/.venv/lib/python3.11/site-packages (from nbformat) (5.8.1)\n",
      "Requirement already satisfied: traitlets>=5.1 in /Users/lucasmuller/Desktop/Githubg/Rawls_v3/.venv/lib/python3.11/site-packages (from nbformat) (5.14.3)\n",
      "Requirement already satisfied: attrs>=22.2.0 in /Users/lucasmuller/Desktop/Githubg/Rawls_v3/.venv/lib/python3.11/site-packages (from jsonschema>=2.6->nbformat) (25.3.0)\n",
      "Requirement already satisfied: jsonschema-specifications>=2023.03.6 in /Users/lucasmuller/Desktop/Githubg/Rawls_v3/.venv/lib/python3.11/site-packages (from jsonschema>=2.6->nbformat) (2025.4.1)\n",
      "Requirement already satisfied: referencing>=0.28.4 in /Users/lucasmuller/Desktop/Githubg/Rawls_v3/.venv/lib/python3.11/site-packages (from jsonschema>=2.6->nbformat) (0.36.2)\n",
      "Requirement already satisfied: rpds-py>=0.7.1 in /Users/lucasmuller/Desktop/Githubg/Rawls_v3/.venv/lib/python3.11/site-packages (from jsonschema>=2.6->nbformat) (0.26.0)\n",
      "Requirement already satisfied: platformdirs>=2.5 in /Users/lucasmuller/Desktop/Githubg/Rawls_v3/.venv/lib/python3.11/site-packages (from jupyter-core!=5.0.*,>=4.12->nbformat) (4.3.8)\n",
      "Requirement already satisfied: typing-extensions>=4.4.0 in /Users/lucasmuller/Desktop/Githubg/Rawls_v3/.venv/lib/python3.11/site-packages (from referencing>=0.28.4->jsonschema>=2.6->nbformat) (4.14.1)\n",
      "\n",
      "\u001b[1m[\u001b[0m\u001b[34;49mnotice\u001b[0m\u001b[1;39;49m]\u001b[0m\u001b[39;49m A new release of pip is available: \u001b[0m\u001b[31;49m23.2.1\u001b[0m\u001b[39;49m -> \u001b[0m\u001b[32;49m25.2\u001b[0m\n",
      "\u001b[1m[\u001b[0m\u001b[34;49mnotice\u001b[0m\u001b[1;39;49m]\u001b[0m\u001b[39;49m To update, run: \u001b[0m\u001b[32;49mpip install --upgrade pip\u001b[0m\n",
      "Note: you may need to restart the kernel to use updated packages.\n"
     ]
    }
   ],
   "source": [
    "%pip install  nbformat "
   ]
  },
  {
   "cell_type": "code",
   "execution_count": 8,
   "metadata": {},
   "outputs": [],
   "source": [
    "import nbformat\n"
   ]
  },
  {
   "cell_type": "code",
   "execution_count": 9,
   "metadata": {},
   "outputs": [
    {
     "data": {
      "application/vnd.plotly.v1+json": {
       "config": {
        "plotlyServerURL": "https://plot.ly"
       },
       "data": [
        {
         "link": {
          "color": "rgba(128, 128, 128, 0.4)",
          "source": [
           0
          ],
          "target": [
           1
          ],
          "value": [
           5
          ]
         },
         "node": {
          "color": [
           "rgba(31, 119, 180, 0.8)",
           "rgba(44, 160, 44, 0.8)"
          ],
          "label": [
           "Initial: Maximizing Floor",
           "Agreed: Maximizing Floor"
          ],
          "line": {
           "color": "black",
           "width": 0.5
          },
          "pad": 15,
          "thickness": 20
         },
         "type": "sankey"
        }
       ],
       "layout": {
        "font": {
         "size": 12
        },
        "height": 600,
        "template": {
         "data": {
          "bar": [
           {
            "error_x": {
             "color": "#2a3f5f"
            },
            "error_y": {
             "color": "#2a3f5f"
            },
            "marker": {
             "line": {
              "color": "#E5ECF6",
              "width": 0.5
             },
             "pattern": {
              "fillmode": "overlay",
              "size": 10,
              "solidity": 0.2
             }
            },
            "type": "bar"
           }
          ],
          "barpolar": [
           {
            "marker": {
             "line": {
              "color": "#E5ECF6",
              "width": 0.5
             },
             "pattern": {
              "fillmode": "overlay",
              "size": 10,
              "solidity": 0.2
             }
            },
            "type": "barpolar"
           }
          ],
          "carpet": [
           {
            "aaxis": {
             "endlinecolor": "#2a3f5f",
             "gridcolor": "white",
             "linecolor": "white",
             "minorgridcolor": "white",
             "startlinecolor": "#2a3f5f"
            },
            "baxis": {
             "endlinecolor": "#2a3f5f",
             "gridcolor": "white",
             "linecolor": "white",
             "minorgridcolor": "white",
             "startlinecolor": "#2a3f5f"
            },
            "type": "carpet"
           }
          ],
          "choropleth": [
           {
            "colorbar": {
             "outlinewidth": 0,
             "ticks": ""
            },
            "type": "choropleth"
           }
          ],
          "contour": [
           {
            "colorbar": {
             "outlinewidth": 0,
             "ticks": ""
            },
            "colorscale": [
             [
              0,
              "#0d0887"
             ],
             [
              0.1111111111111111,
              "#46039f"
             ],
             [
              0.2222222222222222,
              "#7201a8"
             ],
             [
              0.3333333333333333,
              "#9c179e"
             ],
             [
              0.4444444444444444,
              "#bd3786"
             ],
             [
              0.5555555555555556,
              "#d8576b"
             ],
             [
              0.6666666666666666,
              "#ed7953"
             ],
             [
              0.7777777777777778,
              "#fb9f3a"
             ],
             [
              0.8888888888888888,
              "#fdca26"
             ],
             [
              1,
              "#f0f921"
             ]
            ],
            "type": "contour"
           }
          ],
          "contourcarpet": [
           {
            "colorbar": {
             "outlinewidth": 0,
             "ticks": ""
            },
            "type": "contourcarpet"
           }
          ],
          "heatmap": [
           {
            "colorbar": {
             "outlinewidth": 0,
             "ticks": ""
            },
            "colorscale": [
             [
              0,
              "#0d0887"
             ],
             [
              0.1111111111111111,
              "#46039f"
             ],
             [
              0.2222222222222222,
              "#7201a8"
             ],
             [
              0.3333333333333333,
              "#9c179e"
             ],
             [
              0.4444444444444444,
              "#bd3786"
             ],
             [
              0.5555555555555556,
              "#d8576b"
             ],
             [
              0.6666666666666666,
              "#ed7953"
             ],
             [
              0.7777777777777778,
              "#fb9f3a"
             ],
             [
              0.8888888888888888,
              "#fdca26"
             ],
             [
              1,
              "#f0f921"
             ]
            ],
            "type": "heatmap"
           }
          ],
          "histogram": [
           {
            "marker": {
             "pattern": {
              "fillmode": "overlay",
              "size": 10,
              "solidity": 0.2
             }
            },
            "type": "histogram"
           }
          ],
          "histogram2d": [
           {
            "colorbar": {
             "outlinewidth": 0,
             "ticks": ""
            },
            "colorscale": [
             [
              0,
              "#0d0887"
             ],
             [
              0.1111111111111111,
              "#46039f"
             ],
             [
              0.2222222222222222,
              "#7201a8"
             ],
             [
              0.3333333333333333,
              "#9c179e"
             ],
             [
              0.4444444444444444,
              "#bd3786"
             ],
             [
              0.5555555555555556,
              "#d8576b"
             ],
             [
              0.6666666666666666,
              "#ed7953"
             ],
             [
              0.7777777777777778,
              "#fb9f3a"
             ],
             [
              0.8888888888888888,
              "#fdca26"
             ],
             [
              1,
              "#f0f921"
             ]
            ],
            "type": "histogram2d"
           }
          ],
          "histogram2dcontour": [
           {
            "colorbar": {
             "outlinewidth": 0,
             "ticks": ""
            },
            "colorscale": [
             [
              0,
              "#0d0887"
             ],
             [
              0.1111111111111111,
              "#46039f"
             ],
             [
              0.2222222222222222,
              "#7201a8"
             ],
             [
              0.3333333333333333,
              "#9c179e"
             ],
             [
              0.4444444444444444,
              "#bd3786"
             ],
             [
              0.5555555555555556,
              "#d8576b"
             ],
             [
              0.6666666666666666,
              "#ed7953"
             ],
             [
              0.7777777777777778,
              "#fb9f3a"
             ],
             [
              0.8888888888888888,
              "#fdca26"
             ],
             [
              1,
              "#f0f921"
             ]
            ],
            "type": "histogram2dcontour"
           }
          ],
          "mesh3d": [
           {
            "colorbar": {
             "outlinewidth": 0,
             "ticks": ""
            },
            "type": "mesh3d"
           }
          ],
          "parcoords": [
           {
            "line": {
             "colorbar": {
              "outlinewidth": 0,
              "ticks": ""
             }
            },
            "type": "parcoords"
           }
          ],
          "pie": [
           {
            "automargin": true,
            "type": "pie"
           }
          ],
          "scatter": [
           {
            "fillpattern": {
             "fillmode": "overlay",
             "size": 10,
             "solidity": 0.2
            },
            "type": "scatter"
           }
          ],
          "scatter3d": [
           {
            "line": {
             "colorbar": {
              "outlinewidth": 0,
              "ticks": ""
             }
            },
            "marker": {
             "colorbar": {
              "outlinewidth": 0,
              "ticks": ""
             }
            },
            "type": "scatter3d"
           }
          ],
          "scattercarpet": [
           {
            "marker": {
             "colorbar": {
              "outlinewidth": 0,
              "ticks": ""
             }
            },
            "type": "scattercarpet"
           }
          ],
          "scattergeo": [
           {
            "marker": {
             "colorbar": {
              "outlinewidth": 0,
              "ticks": ""
             }
            },
            "type": "scattergeo"
           }
          ],
          "scattergl": [
           {
            "marker": {
             "colorbar": {
              "outlinewidth": 0,
              "ticks": ""
             }
            },
            "type": "scattergl"
           }
          ],
          "scattermap": [
           {
            "marker": {
             "colorbar": {
              "outlinewidth": 0,
              "ticks": ""
             }
            },
            "type": "scattermap"
           }
          ],
          "scattermapbox": [
           {
            "marker": {
             "colorbar": {
              "outlinewidth": 0,
              "ticks": ""
             }
            },
            "type": "scattermapbox"
           }
          ],
          "scatterpolar": [
           {
            "marker": {
             "colorbar": {
              "outlinewidth": 0,
              "ticks": ""
             }
            },
            "type": "scatterpolar"
           }
          ],
          "scatterpolargl": [
           {
            "marker": {
             "colorbar": {
              "outlinewidth": 0,
              "ticks": ""
             }
            },
            "type": "scatterpolargl"
           }
          ],
          "scatterternary": [
           {
            "marker": {
             "colorbar": {
              "outlinewidth": 0,
              "ticks": ""
             }
            },
            "type": "scatterternary"
           }
          ],
          "surface": [
           {
            "colorbar": {
             "outlinewidth": 0,
             "ticks": ""
            },
            "colorscale": [
             [
              0,
              "#0d0887"
             ],
             [
              0.1111111111111111,
              "#46039f"
             ],
             [
              0.2222222222222222,
              "#7201a8"
             ],
             [
              0.3333333333333333,
              "#9c179e"
             ],
             [
              0.4444444444444444,
              "#bd3786"
             ],
             [
              0.5555555555555556,
              "#d8576b"
             ],
             [
              0.6666666666666666,
              "#ed7953"
             ],
             [
              0.7777777777777778,
              "#fb9f3a"
             ],
             [
              0.8888888888888888,
              "#fdca26"
             ],
             [
              1,
              "#f0f921"
             ]
            ],
            "type": "surface"
           }
          ],
          "table": [
           {
            "cells": {
             "fill": {
              "color": "#EBF0F8"
             },
             "line": {
              "color": "white"
             }
            },
            "header": {
             "fill": {
              "color": "#C8D4E3"
             },
             "line": {
              "color": "white"
             }
            },
            "type": "table"
           }
          ]
         },
         "layout": {
          "annotationdefaults": {
           "arrowcolor": "#2a3f5f",
           "arrowhead": 0,
           "arrowwidth": 1
          },
          "autotypenumbers": "strict",
          "coloraxis": {
           "colorbar": {
            "outlinewidth": 0,
            "ticks": ""
           }
          },
          "colorscale": {
           "diverging": [
            [
             0,
             "#8e0152"
            ],
            [
             0.1,
             "#c51b7d"
            ],
            [
             0.2,
             "#de77ae"
            ],
            [
             0.3,
             "#f1b6da"
            ],
            [
             0.4,
             "#fde0ef"
            ],
            [
             0.5,
             "#f7f7f7"
            ],
            [
             0.6,
             "#e6f5d0"
            ],
            [
             0.7,
             "#b8e186"
            ],
            [
             0.8,
             "#7fbc41"
            ],
            [
             0.9,
             "#4d9221"
            ],
            [
             1,
             "#276419"
            ]
           ],
           "sequential": [
            [
             0,
             "#0d0887"
            ],
            [
             0.1111111111111111,
             "#46039f"
            ],
            [
             0.2222222222222222,
             "#7201a8"
            ],
            [
             0.3333333333333333,
             "#9c179e"
            ],
            [
             0.4444444444444444,
             "#bd3786"
            ],
            [
             0.5555555555555556,
             "#d8576b"
            ],
            [
             0.6666666666666666,
             "#ed7953"
            ],
            [
             0.7777777777777778,
             "#fb9f3a"
            ],
            [
             0.8888888888888888,
             "#fdca26"
            ],
            [
             1,
             "#f0f921"
            ]
           ],
           "sequentialminus": [
            [
             0,
             "#0d0887"
            ],
            [
             0.1111111111111111,
             "#46039f"
            ],
            [
             0.2222222222222222,
             "#7201a8"
            ],
            [
             0.3333333333333333,
             "#9c179e"
            ],
            [
             0.4444444444444444,
             "#bd3786"
            ],
            [
             0.5555555555555556,
             "#d8576b"
            ],
            [
             0.6666666666666666,
             "#ed7953"
            ],
            [
             0.7777777777777778,
             "#fb9f3a"
            ],
            [
             0.8888888888888888,
             "#fdca26"
            ],
            [
             1,
             "#f0f921"
            ]
           ]
          },
          "colorway": [
           "#636efa",
           "#EF553B",
           "#00cc96",
           "#ab63fa",
           "#FFA15A",
           "#19d3f3",
           "#FF6692",
           "#B6E880",
           "#FF97FF",
           "#FECB52"
          ],
          "font": {
           "color": "#2a3f5f"
          },
          "geo": {
           "bgcolor": "white",
           "lakecolor": "white",
           "landcolor": "#E5ECF6",
           "showlakes": true,
           "showland": true,
           "subunitcolor": "white"
          },
          "hoverlabel": {
           "align": "left"
          },
          "hovermode": "closest",
          "mapbox": {
           "style": "light"
          },
          "paper_bgcolor": "white",
          "plot_bgcolor": "#E5ECF6",
          "polar": {
           "angularaxis": {
            "gridcolor": "white",
            "linecolor": "white",
            "ticks": ""
           },
           "bgcolor": "#E5ECF6",
           "radialaxis": {
            "gridcolor": "white",
            "linecolor": "white",
            "ticks": ""
           }
          },
          "scene": {
           "xaxis": {
            "backgroundcolor": "#E5ECF6",
            "gridcolor": "white",
            "gridwidth": 2,
            "linecolor": "white",
            "showbackground": true,
            "ticks": "",
            "zerolinecolor": "white"
           },
           "yaxis": {
            "backgroundcolor": "#E5ECF6",
            "gridcolor": "white",
            "gridwidth": 2,
            "linecolor": "white",
            "showbackground": true,
            "ticks": "",
            "zerolinecolor": "white"
           },
           "zaxis": {
            "backgroundcolor": "#E5ECF6",
            "gridcolor": "white",
            "gridwidth": 2,
            "linecolor": "white",
            "showbackground": true,
            "ticks": "",
            "zerolinecolor": "white"
           }
          },
          "shapedefaults": {
           "line": {
            "color": "#2a3f5f"
           }
          },
          "ternary": {
           "aaxis": {
            "gridcolor": "white",
            "linecolor": "white",
            "ticks": ""
           },
           "baxis": {
            "gridcolor": "white",
            "linecolor": "white",
            "ticks": ""
           },
           "bgcolor": "#E5ECF6",
           "caxis": {
            "gridcolor": "white",
            "linecolor": "white",
            "ticks": ""
           }
          },
          "title": {
           "x": 0.05
          },
          "xaxis": {
           "automargin": true,
           "gridcolor": "white",
           "linecolor": "white",
           "ticks": "",
           "title": {
            "standoff": 15
           },
           "zerolinecolor": "white",
           "zerolinewidth": 2
          },
          "yaxis": {
           "automargin": true,
           "gridcolor": "white",
           "linecolor": "white",
           "ticks": "",
           "title": {
            "standoff": 15
           },
           "zerolinecolor": "white",
           "zerolinewidth": 2
          }
         }
        },
        "title": {
         "text": "Flow from Initial to Agreed Principle"
        },
        "width": 1000
       }
      }
     },
     "metadata": {},
     "output_type": "display_data"
    }
   ],
   "source": [
    "import plotly.graph_objects as go\n",
    "import plotly.express as px\n",
    "import nbformat\n",
    "from collections import Counter\n",
    "\n",
    "def create_sankey_chart(df: pd.DataFrame, title: str = \"Flow from Initial to Agreed Principle\"):\n",
    "    \"\"\"\n",
    "    Create a Sankey chart showing flow from Initial Preference to Agreed Principle.\n",
    "    \n",
    "    Args:\n",
    "        df: DataFrame with Initial Preference and Agreement/Agreed Principle columns\n",
    "        title: Chart title\n",
    "    \"\"\"\n",
    "    \n",
    "    # Map principle numbers to names\n",
    "    principle_names = {\n",
    "        1: \"Maximizing Floor\",\n",
    "        2: \"Maximizing Average\", \n",
    "        3: \"Maximizing Average with Floor\",\n",
    "        4: \"Maximizing Average with Range\"\n",
    "    }\n",
    "    \n",
    "    # Create source and target labels\n",
    "    source_labels = []\n",
    "    target_labels = []\n",
    "    values = []\n",
    "    \n",
    "    # Group by Initial Preference and outcome\n",
    "    for _, row in df.iterrows():\n",
    "        initial = row['Initial Preference']\n",
    "        agreement = row['Agreement?']\n",
    "        agreed = row['Agreed Principle']\n",
    "        \n",
    "        # Source: Initial Preference\n",
    "        initial_name = principle_names.get(initial, f\"Unknown ({initial})\")\n",
    "        source_name = f\"Initial: {initial_name}\"\n",
    "        \n",
    "        # Target: Either agreed principle or \"No Agreement\"\n",
    "        if agreement == 1 and agreed is not None:\n",
    "            target_name = f\"Agreed: {principle_names.get(agreed, f'Unknown ({agreed})')}\"\n",
    "        else:\n",
    "            target_name = \"No Agreement\"\n",
    "        \n",
    "        source_labels.append(source_name)\n",
    "        target_labels.append(target_name)\n",
    "        values.append(1)  # Each agent contributes 1 to the flow\n",
    "    \n",
    "    # Create unique labels and map to indices\n",
    "    all_labels = list(set(source_labels + target_labels))\n",
    "    label_to_index = {label: i for i, label in enumerate(all_labels)}\n",
    "    \n",
    "    # Convert to indices and aggregate flows\n",
    "    flows = {}\n",
    "    for source, target, value in zip(source_labels, target_labels, values):\n",
    "        source_idx = label_to_index[source]\n",
    "        target_idx = label_to_index[target]\n",
    "        key = (source_idx, target_idx)\n",
    "        flows[key] = flows.get(key, 0) + value\n",
    "    \n",
    "    # Extract final data\n",
    "    source_indices = []\n",
    "    target_indices = []\n",
    "    flow_values = []\n",
    "    \n",
    "    for (source_idx, target_idx), value in flows.items():\n",
    "        source_indices.append(source_idx)\n",
    "        target_indices.append(target_idx)\n",
    "        flow_values.append(value)\n",
    "    \n",
    "    # Create colors\n",
    "    colors = []\n",
    "    for label in all_labels:\n",
    "        if \"Initial:\" in label:\n",
    "            colors.append(\"rgba(31, 119, 180, 0.8)\")  # Blue for initial\n",
    "        elif \"No Agreement\" in label:\n",
    "            colors.append(\"rgba(214, 39, 40, 0.8)\")   # Red for no agreement\n",
    "        else:\n",
    "            colors.append(\"rgba(44, 160, 44, 0.8)\")   # Green for agreed\n",
    "    \n",
    "    # Create Sankey diagram\n",
    "    fig = go.Figure(data=[go.Sankey(\n",
    "        node=dict(\n",
    "            pad=15,\n",
    "            thickness=20,\n",
    "            line=dict(color=\"black\", width=0.5),\n",
    "            label=all_labels,\n",
    "            color=colors\n",
    "        ),\n",
    "        link=dict(\n",
    "            source=source_indices,\n",
    "            target=target_indices,\n",
    "            value=flow_values,\n",
    "            color=\"rgba(128, 128, 128, 0.4)\"\n",
    "        )\n",
    "    )])\n",
    "    \n",
    "    fig.update_layout(\n",
    "        title_text=title,\n",
    "        font_size=12,\n",
    "        height=600,\n",
    "        width=1000\n",
    "    )\n",
    "    \n",
    "    return fig\n",
    "\n",
    "# Create and display the Sankey chart\n",
    "# First, let's load some data to demonstrate\n",
    "try:\n",
    "    # Try to use existing df if available, otherwise load fresh data\n",
    "    if 'df' not in locals():\n",
    "        results = load_experiment_results(\"/Users/lucasmuller/Desktop/Githubg/Rawls_v3/hypothesis_2_&_4/config_01_results_20250810_094637.json\")\n",
    "        df = extract_experiment_dataframe(results)\n",
    "    \n",
    "    sankey_fig = create_sankey_chart(df)\n",
    "    sankey_fig.show()\n",
    "    \n",
    "except Exception as e:\n",
    "    print(f\"Error creating Sankey chart: {e}\")\n",
    "    print(\"Make sure you have plotly installed: pip install plotly\")"
   ]
  },
  {
   "cell_type": "markdown",
   "metadata": {},
   "source": [
    "## Sankey Chart: Initial to Agreed Principle\n",
    "\n",
    "This section creates a Sankey diagram showing the flow from agents' initial preferences to the final agreed principle."
   ]
  }
 ],
 "metadata": {
  "kernelspec": {
   "display_name": ".venv",
   "language": "python",
   "name": "python3"
  },
  "language_info": {
   "codemirror_mode": {
    "name": "ipython",
    "version": 3
   },
   "file_extension": ".py",
   "mimetype": "text/x-python",
   "name": "python",
   "nbconvert_exporter": "python",
   "pygments_lexer": "ipython3",
   "version": "3.11.6"
  }
 },
 "nbformat": 4,
 "nbformat_minor": 4
}