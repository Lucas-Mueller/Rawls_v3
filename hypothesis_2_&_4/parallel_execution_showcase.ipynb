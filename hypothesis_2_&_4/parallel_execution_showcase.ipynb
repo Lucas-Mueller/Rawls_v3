{
 "cells": [
  {
   "cell_type": "markdown",
   "id": "a8b1c2d3e4f5",
   "metadata": {},
   "source": [
    "# Parallel Experiment Execution Showcase\n",
    "\n",
    "This notebook demonstrates how to run multiple Frohlich experiments in parallel using the new `run_experiments_parallel` function."
   ]
  },
  {
   "cell_type": "markdown",
   "id": "b7c2d4e5f6g7",
   "metadata": {},
   "source": [
    "## Setup"
   ]
  },
  {
   "cell_type": "code",
   "execution_count": null,
   "id": "c8d3e5f7g8h9",
   "metadata": {},
   "outputs": [],
   "source": [
    "import sys\n",
    "import os\n",
    "from pathlib import Path\n",
    "from datetime import datetime\n",
    "import glob\n",
    "\n",
    "# Change to project root directory\n",
    "project_root = '/Users/lucasmuller/Desktop/Githubg/Rawls_v3'\n",
    "os.chdir(project_root)\n",
    "sys.path.append(project_root)\n",
    "\n",
    "from utils.experiment_runner import run_experiments_parallel\n",
    "\n",
    "print(f\"Working directory: {os.getcwd()}\")\n",
    "print(f\"Timestamp: {datetime.now().strftime('%Y-%m-%d %H:%M:%S')}\")"
   ]
  },
  {
   "cell_type": "markdown",
   "id": "d9e4f6h8i9j0",
   "metadata": {},
   "source": [
    "## Load Configuration Files\n",
    "\n",
    "First, let's identify all the config files in the condition_1 directory."
   ]
  },
  {
   "cell_type": "code",
   "execution_count": null,
   "id": "e0f5g7i9j0k1",
   "metadata": {},
   "outputs": [],
   "source": [
    "# Get all config files from condition_1\n",
    "config_dir = \"hypothesis_2_&_4/configs/condition_1\"\n",
    "config_files = sorted(glob.glob(f\"{config_dir}/config_*.yaml\"))\n",
    "\n",
    "print(f\"Found {len(config_files)} configuration files:\")\n",
    "for i, config_file in enumerate(config_files, 1):\n",
    "    config_name = Path(config_file).name\n",
    "    print(f\"  {i:2d}. {config_name}\")\n",
    "\n",
    "# Display the total\n",
    "print(f\"\\nTotal configurations to run: {len(config_files)}\")"
   ]
  },
  {
   "cell_type": "markdown",
   "id": "h3i8j0l2m3n4",
   "metadata": {},
   "source": [
    "## Run Experiments in Parallel\n",
    "\n",
    "Now we'll run all 10 configurations in parallel with a maximum of 5 concurrent experiments.\n",
    "\n",
    "**Note**: This will take a significant amount of time to complete, as each experiment involves complex AI agent interactions."
   ]
  },
  {
   "cell_type": "code",
   "execution_count": null,
   "id": "i4j9k1m3n4o5",
   "metadata": {},
   "outputs": [],
   "source": [
    "# Set up execution parameters\n",
    "MAX_PARALLEL = 5  # Number of experiments to run concurrently\n",
    "OUTPUT_DIR = \"hypothesis_2_&_4/logs\"  # Directory to save results\n",
    "\n",
    "# Create logs directory if it doesn't exist\n",
    "os.makedirs(OUTPUT_DIR, exist_ok=True)\n",
    "\n",
    "print(f\"Starting parallel execution of {len(config_files)} experiments\")\n",
    "print(f\"Maximum parallel experiments: {MAX_PARALLEL}\")\n",
    "print(f\"Output directory: {OUTPUT_DIR}\")\n",
    "print(f\"Start time: {datetime.now().strftime('%Y-%m-%d %H:%M:%S')}\")\n",
    "print(\"\\n\" + \"=\"*80 + \"\\n\")\n",
    "\n",
    "# Run the experiments\n",
    "try:\n",
    "    results = run_experiments_parallel(\n",
    "        config_files=config_files,\n",
    "        max_parallel=MAX_PARALLEL,\n",
    "        output_dir=OUTPUT_DIR,\n",
    "        verbose=True\n",
    "    )\n",
    "    \n",
    "    print(\"\\n\" + \"=\"*80)\n",
    "    print(f\"Parallel execution completed at: {datetime.now().strftime('%Y-%m-%d %H:%M:%S')}\")\n",
    "    \n",
    "except Exception as e:\n",
    "    print(f\"\\nParallel execution failed with error: {e}\")\n",
    "    import traceback\n",
    "    traceback.print_exc()\n",
    "    results = None"
   ]
  }
 ],
 "metadata": {
  "kernelspec": {
   "display_name": "Python 3",
   "language": "python",
   "name": "python3"
  },
  "language_info": {
   "codemirror_mode": {
    "name": "ipython",
    "version": 3
   },
   "file_extension": ".py",
   "mimetype": "text/x-python",
   "name": "python",
   "nbconvert_exporter": "python",
   "pygments_lexer": "ipython3",
   "version": "3.9.0"
  }
 },
 "nbformat": 4,
 "nbformat_minor": 5
}
